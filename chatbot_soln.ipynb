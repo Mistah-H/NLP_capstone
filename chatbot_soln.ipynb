{
 "cells": [
  {
   "cell_type": "markdown",
   "metadata": {},
   "source": [
    "data load\n",
    "data EDA -- Should serve some purpose\n",
    "data pre-processing -- stop words, stemming, normalisation, special char, \n",
    "feature engineering/extraction --\n",
    "num of common words\n",
    "pos\n",
    "ner\n",
    "intent detection 5w1h- who what where why when how\n",
    "ques or not\n",
    "similarity bwn abbreviation\n",
    "sentiment\n",
    "\n",
    "\n",
    "classifier\n",
    "\n",
    "similarity score based on threshold\n",
    "similarity score between vectors of the sentences -- use of pre-trained model\n",
    "using sentence embeddings and concatenate and train a classifier\n",
    "using sentence embeddings and concatenate  + concatenate other features and train a classifier\n",
    "sentence embeddings -- glove, fasttext, bert, elmo\n",
    "pass sentences to lsmt/seq models and concatenate the op and pass to a NN classifier with a sigmoid and train on whole data\n",
    "\n",
    "\n",
    "\n",
    "Get counts of 0 and 1\n",
    "POS of 1s and 0s\n",
    "Clean data\n",
    "Preprocess\n",
    "Look at features to extract\n"
   ]
  },
  {
   "cell_type": "code",
   "execution_count": 1,
   "metadata": {},
   "outputs": [
    {
     "name": "stderr",
     "output_type": "stream",
     "text": [
      "[nltk_data] Downloading package stopwords to C:\\Users\\Mohammad\n",
      "[nltk_data]     Hamza\\AppData\\Roaming\\nltk_data...\n",
      "[nltk_data]   Package stopwords is already up-to-date!\n",
      "[nltk_data] Downloading package punkt to C:\\Users\\Mohammad\n",
      "[nltk_data]     Hamza\\AppData\\Roaming\\nltk_data...\n",
      "[nltk_data]   Package punkt is already up-to-date!\n",
      "[nltk_data] Downloading package wordnet to C:\\Users\\Mohammad\n",
      "[nltk_data]     Hamza\\AppData\\Roaming\\nltk_data...\n",
      "[nltk_data]   Package wordnet is already up-to-date!\n"
     ]
    }
   ],
   "source": [
    "import numpy as np\n",
    "import pandas as pd\n",
    "import matplotlib.pyplot as plt\n",
    "from matplotlib import style\n",
    "#import seaborn as sns\n",
    "import re\n",
    "import spacy\n",
    "\n",
    "import nltk\n",
    "nltk.download(\"stopwords\")\n",
    "from nltk.corpus import stopwords\n",
    "from nltk.stem.porter import PorterStemmer\n",
    "from nltk import word_tokenize,sent_tokenize\n",
    "from string import punctuation\n",
    "\n",
    "nltk.download('punkt')\n",
    "nltk.download('wordnet')\n",
    "from keras.preprocessing.text import Tokenizer\n",
    "from keras.preprocessing.sequence import pad_sequences\n",
    "from keras.wrappers.scikit_learn import KerasClassifier\n",
    "from keras.models import Input, Model\n",
    "from keras.layers import Dense, Flatten, LSTM, concatenate, Bidirectional, Dropout, Activation, Embedding\n",
    "from keras import layers\n",
    "from nltk.stem import WordNetLemmatizer\n",
    "from keras.utils import to_categorical\n",
    "from sklearn.model_selection import train_test_split\n"
   ]
  },
  {
   "cell_type": "code",
   "execution_count": 2,
   "metadata": {},
   "outputs": [],
   "source": [
    "train = pd.read_csv('train.csv')"
   ]
  },
  {
   "cell_type": "code",
   "execution_count": 3,
   "metadata": {},
   "outputs": [
    {
     "data": {
      "text/html": [
       "<div>\n",
       "<style scoped>\n",
       "    .dataframe tbody tr th:only-of-type {\n",
       "        vertical-align: middle;\n",
       "    }\n",
       "\n",
       "    .dataframe tbody tr th {\n",
       "        vertical-align: top;\n",
       "    }\n",
       "\n",
       "    .dataframe thead th {\n",
       "        text-align: right;\n",
       "    }\n",
       "</style>\n",
       "<table border=\"1\" class=\"dataframe\">\n",
       "  <thead>\n",
       "    <tr style=\"text-align: right;\">\n",
       "      <th></th>\n",
       "      <th>pid</th>\n",
       "      <th>sentence1</th>\n",
       "      <th>sentence2</th>\n",
       "      <th>label</th>\n",
       "    </tr>\n",
       "  </thead>\n",
       "  <tbody>\n",
       "    <tr>\n",
       "      <th>0</th>\n",
       "      <td>4665</td>\n",
       "      <td>do you accept broadband bills</td>\n",
       "      <td>Broadband bill</td>\n",
       "      <td>1</td>\n",
       "    </tr>\n",
       "    <tr>\n",
       "      <th>1</th>\n",
       "      <td>26465</td>\n",
       "      <td>I am getting better fare for this flight</td>\n",
       "      <td>Check flight rate</td>\n",
       "      <td>0</td>\n",
       "    </tr>\n",
       "    <tr>\n",
       "      <th>2</th>\n",
       "      <td>57679</td>\n",
       "      <td>Flight from delhi to srinagar</td>\n",
       "      <td>check price for flight from mumbai to pune</td>\n",
       "      <td>1</td>\n",
       "    </tr>\n",
       "    <tr>\n",
       "      <th>3</th>\n",
       "      <td>22043</td>\n",
       "      <td>Availability of food</td>\n",
       "      <td>food available for guest</td>\n",
       "      <td>1</td>\n",
       "    </tr>\n",
       "    <tr>\n",
       "      <th>4</th>\n",
       "      <td>6522</td>\n",
       "      <td>This is my ID only</td>\n",
       "      <td>Can't find order ID.</td>\n",
       "      <td>0</td>\n",
       "    </tr>\n",
       "  </tbody>\n",
       "</table>\n",
       "</div>"
      ],
      "text/plain": [
       "     pid                                 sentence1  \\\n",
       "0   4665             do you accept broadband bills   \n",
       "1  26465  I am getting better fare for this flight   \n",
       "2  57679             Flight from delhi to srinagar   \n",
       "3  22043                      Availability of food   \n",
       "4   6522                        This is my ID only   \n",
       "\n",
       "                                    sentence2  label  \n",
       "0                              Broadband bill      1  \n",
       "1                           Check flight rate      0  \n",
       "2  check price for flight from mumbai to pune      1  \n",
       "3                    food available for guest      1  \n",
       "4                        Can't find order ID.      0  "
      ]
     },
     "execution_count": 3,
     "metadata": {},
     "output_type": "execute_result"
    }
   ],
   "source": [
    "train.head()"
   ]
  },
  {
   "cell_type": "code",
   "execution_count": 4,
   "metadata": {},
   "outputs": [
    {
     "data": {
      "text/plain": [
       "<AxesSubplot:>"
      ]
     },
     "execution_count": 4,
     "metadata": {},
     "output_type": "execute_result"
    },
    {
     "data": {
      "image/png": "[encoded data removed]",
      "text/plain": [
       "<Figure size 432x288 with 1 Axes>"
      ]
     },
     "metadata": {
      "needs_background": "light"
     },
     "output_type": "display_data"
    }
   ],
   "source": [
    "train['label'].value_counts().plot(kind = 'bar')"
   ]
  },
  {
   "cell_type": "code",
   "execution_count": 5,
   "metadata": {},
   "outputs": [
    {
     "name": "stdout",
     "output_type": "stream",
     "text": [
      "[['accept', 'broadband', 'bills'], ['getting', 'better', 'fare', 'flight'], ['flight', 'delhi', 'srinagar'], ['availability', 'food'], ['d']]\n"
     ]
    }
   ],
   "source": [
    "nlp = spacy.load(\"en_core_web_sm\")\n",
    "sent_1 = []\n",
    "sent_2 = []\n",
    "pos_tag = ['PROPN', 'ADJ', 'NOUN', 'VERB']\n",
    "for text in train['sentence1']:\n",
    "    \n",
    "    x = []\n",
    "    s = nlp(text.lower())\n",
    "    for token in s:\n",
    "        if(token.text in nlp.Defaults.stop_words or token.text in punctuation):\n",
    "            continue\n",
    "        # 4\n",
    "        if(token.pos_ in pos_tag):\n",
    "            x.append(token.text)\n",
    "             \n",
    "    sent_1.append(x)\n",
    "    \n",
    "for text in train['sentence2']:\n",
    "    #print(type(text))\n",
    "    x = []\n",
    "    s = nlp(text.lower())\n",
    "    for token in s:\n",
    "        if(token.text in nlp.Defaults.stop_words or token.text in punctuation):\n",
    "            continue\n",
    "        # 4\n",
    "        if(token.pos_ in pos_tag):\n",
    "            x.append(token.text)\n",
    "    sent_2.append(x)\n",
    "#print(sent_2)\n",
    "\n",
    "print(sent_1[:5])\n",
    "\n"
   ]
  },
  {
   "cell_type": "code",
   "execution_count": 6,
   "metadata": {},
   "outputs": [
    {
     "name": "stdout",
     "output_type": "stream",
     "text": [
      "[['broadband', 'bill'], ['check', 'flight', 'rate'], ['check', 'price', 'flight', 'mumbai', 'pune'], ['food', 'available', 'guest'], ['find', 'order', 'd']]\n"
     ]
    }
   ],
   "source": [
    "print(sent_2[:5])"
   ]
  },
  {
   "cell_type": "code",
   "execution_count": 7,
   "metadata": {},
   "outputs": [],
   "source": [
    "temp_dic = {'sent_1' : sent_1, 'sent_2' : sent_2}\n",
    "curr_x = pd.DataFrame(temp_dic)\n",
    "curr_x.head()\n",
    "\n",
    "curr_x['sent_1'] = curr_x['sent_1'].str.join(' ')\n",
    "curr_x['sent_2'] = curr_x['sent_2'].str.join(' ')"
   ]
  },
  {
   "cell_type": "code",
   "execution_count": 8,
   "metadata": {},
   "outputs": [
    {
     "name": "stdout",
     "output_type": "stream",
     "text": [
      "                                               sent_1                   sent_2\n",
      "13035                             facing issues login              login error\n",
      "14055  advantage kg maxima cylinder smaller cylinders                kg maxima\n",
      "8883                                    cash delivery  cash delivery available\n",
      "3780                         want offers uber booking                 buy uber\n",
      "13352                                     pin working              pin getting\n",
      "13035    1\n",
      "14055    0\n",
      "8883     1\n",
      "3780     0\n",
      "13352    1\n",
      "Name: label, dtype: int64\n"
     ]
    }
   ],
   "source": [
    "\n",
    "\n",
    "X_train,X_test,y_train,y_test = train_test_split(curr_x, train.label,test_size=0.2, random_state = 0)\n",
    "\n",
    "print(X_train.head())\n",
    "print(y_train.head())"
   ]
  },
  {
   "cell_type": "code",
   "execution_count": 9,
   "metadata": {},
   "outputs": [],
   "source": [
    "curr_y = train['label']\n",
    "max_len = 7\n",
    "tok_1 = Tokenizer()\n",
    "tok_1.fit_on_texts(X_train['sent_1'])\n",
    "tok_1.fit_on_texts(X_test['sent_1'])\n",
    "seq_1_train = tok_1.texts_to_sequences(X_train['sent_1'])\n",
    "seq_1_test = tok_1.texts_to_sequences(X_test['sent_1'])\n",
    "tok_2 = Tokenizer()\n",
    "tok_2.fit_on_texts(X_train['sent_2'])\n",
    "seq_2_train = tok_2.texts_to_sequences(X_train['sent_2'])\n",
    "tok_2.fit_on_texts(X_test['sent_1'])\n",
    "seq_2_test = tok_2.texts_to_sequences(X_test['sent_2'])\n",
    "\n",
    "pad_seq_1_train = pad_sequences(seq_1_train, padding = 'post', maxlen = max_len)\n",
    "pad_seq_2_train = pad_sequences(seq_2_train, padding = 'post', maxlen = max_len)\n",
    "\n",
    "pad_seq_1_test = pad_sequences(seq_1_test, padding = 'post', maxlen = max_len)\n",
    "pad_seq_2_test = pad_sequences(seq_2_test, padding = 'post', maxlen = max_len)"
   ]
  },
  {
   "cell_type": "code",
   "execution_count": 10,
   "metadata": {},
   "outputs": [
    {
     "name": "stdout",
     "output_type": "stream",
     "text": [
      "{'want': 1, 'flight': 2, 'reminder': 3, 'tickets': 4, 'book': 5, 'cashback': 6, 'need': 7, 'flights': 8, 'd': 9, 'booking': 10, 'know': 11, 'help': 12, 'ticket': 13, 'check': 14, 'order': 15, 'cash': 16, 'send': 17, 'set': 18, 'offers': 19, 'total': 20, 'secure': 21, 'bill': 22, 'mumbai': 23, 'train': 24, 'offer': 25, 'change': 26, 'pay': 27, 'account': 28, 'tell': 29, 'received': 30, 'number': 31, 'features': 32, 'premium': 33, 'time': 34, 'find': 35, 'status': 36, 'remind': 37, 'cancel': 38, 'fare': 39, 'buy': 40, 'like': 41, 'delhi': 42, 'test': 43, 'price': 44, 'exercise': 45, 'password': 46, 'survival': 47, 'benefits': 48, 'discount': 49, 'new': 50, 'key': 51, 'available': 52, 'receive': 53, 'report': 54, 'code': 55, 'reminders': 56, 'schedule': 57, 'lpg': 58, 'payment': 59, 'refund': 60, 'water': 61, 'jog': 62, 'stop': 63, 'pin': 64, 'drink': 65, 'wake': 66, 'getting': 67, 'login': 68, 'got': 69, 'bus': 70, 'correct': 71, 'bank': 72, 'home': 73, 'right': 74, 'alert': 75, 'pune': 76, 'plan': 77, 'prize': 78, 'loan': 79, 'lab': 80, 'connect': 81, 'cab': 82, 'cricket': 83, 'medicine': 84, 'coupon': 85, 'use': 86, 'looking': 87, 'electricity': 88, 'bollywood': 89, 'list': 90, 'details': 91, 'email': 92, 'landline': 93, 'today': 94, 'app': 95, 'charge': 96, 'purchase': 97, 'otp': 98, 'pic': 99, 'wifi': 100, 'play': 101, 'working': 102, 'mail': 103, 'kg': 104, 'update': 105, 'match': 106, 'quiz': 107, 'phone': 108, 'daily': 109, 'charges': 110, 'unable': 111, 'convenience': 112, 'download': 113, 'trains': 114, 'cylinder': 115, 'dec': 116, 'life': 117, 'fee': 118, 'money': 119, 'service': 120, 'modification': 121, 'view': 122, 'link': 123, 'haptik': 124, 'nominee': 125, 'gcap': 126, 'ipl': 127, 'joke': 128, 'delete': 129, 'cheaper': 130, 'deal': 131, 'uber': 132, 'connection': 133, 'share': 134, 'modify': 135, 'amazon': 136, 'work': 137, 'horoscope': 138, 'rate': 139, 'cost': 140, 'walk': 141, 'saral': 142, 'nivesh': 143, 'leaderboard': 144, 'gk': 145, 'add': 146, 'mobile': 147, 'come': 148, 'card': 149, 'apply': 150, 'customer': 151, 'suggest': 152, 'pnr': 153, 'discounts': 154, 'able': 155, 'birthday': 156, 'gave': 157, 'bangalore': 158, 'provide': 159, 'waac': 160, 'cheapest': 161, 'required': 162, 'cheap': 163, 'booked': 164, 'information': 165, 'auto': 166, 'jokes': 167, 'demat': 168, 'nearest': 169, 'wanna': 170, 'rank': 171, 'documents': 172, 'alarm': 173, 'best': 174, 'process': 175, 'night': 176, 'contact': 177, 'fees': 178, 'timings': 179, 'benefit': 180, 'prepare': 181, 'recommend': 182, 'yesterday': 183, 'transfer': 184, 'error': 185, 'trip': 186, 'ola': 187, 'calculate': 188, 'motivational': 189, 'anniversary': 190, 'wish': 191, 'invoice': 192, 'procedure': 193, 'receiving': 194, 'quote': 195, 'services': 196, 'domestic': 197, 'day': 198, 'alerts': 199, 'connected': 200, 'fares': 201, 'mutual': 202, 'trading': 203, 'care': 204, 'address': 205, 'supply': 206, 'cylinders': 207, 'tour': 208, 'ur': 209, 'goa': 210, 'tomorrow': 211, 'sign': 212, 'funds': 213, 'referral': 214, 'bookings': 215, 'air': 216, 'win': 217, 'let': 218, 'car': 219, 'tutorial': 220, 'high': 221, 'search': 222, 'important': 223, 'good': 224, 'free': 225, 'prices': 226, 'updates': 227, 'health': 228, 'subscription': 229, 'proceed': 230, 'look': 231, 'score': 232, 'remove': 233, 'eligibility': 234, 'deals': 235, 'prizes': 236, 'morning': 237, 'given': 238, 'message': 239, 'group': 240, 'extra': 241, 'nearby': 242, 'availability': 243, 'credited': 244, 'rates': 245, 's': 246, 'issue': 247, 'open': 248, 'corporate': 249, 'fund': 250, 'found': 251, 'adult': 252, 'picture': 253, 'grievance': 254, 'talk': 255, 'dubai': 256, 'terms': 257, 'hyderabad': 258, 'live': 259, 'visa': 260, 'criticare': 261, 'company': 262, 'date': 263, 'sim': 264, 'adults': 265, 'movie': 266, 'pm': 267, 'conditions': 268, 'agreement': 269, 'dth': 270, 'complaint': 271, 'hours': 272, 'bills': 273, 'manager': 274, 'delivery': 275, 'station': 276, 'credit': 277, 'issues': 278, 'wanted': 279, 'tips': 280, 'closest': 281, 'diwali': 282, 'current': 283, 'store': 284, 'planning': 285, 'paytm': 286, 'payments': 287, 'needed': 288, 'running': 289, 'assist': 290, 'drop': 291, 'onward': 292, 'board': 293, 'body': 294, 'railway': 295, 'relationship': 296, 'hotel': 297, 'christmas': 298, 'pass': 299, 'photo': 300, 'warranty': 301, 'won': 302, 'explain': 303, 'hard': 304, 'terminal': 305, 'place': 306, 'option': 307, 'blood': 308, 'entry': 309, 'mobikwik': 310, 'house': 311, 'awesome': 312, 'resorts': 313, 'airtel': 314, 'id': 315, 'e': 316, 'milad': 317, 'previous': 318, 'winners': 319, 'postpaid': 320, 'meeting': 321, 'interested': 322, 'receipt': 323, 'kochi': 324, 'savings': 325, 'repair': 326, 'boarding': 327, 'year': 328, 'criteria': 329, 'long': 330, 'speak': 331, 'tours': 332, 'announcement': 333, 'reports': 334, 'results': 335, 'coupons': 336, 'seat': 337, 'gas': 338, 'possession': 339, 'collection': 340, 'electric': 341, 'resend': 342, 'active': 343, 'motivation': 344, 'society': 345, 'promocode': 346, 'announced': 347, 'valid': 348, 'answers': 349, 'deposit': 350, 'balance': 351, 'sites': 352, 'maintenance': 353, 'case': 354, 'facing': 355, 'possible': 356, 'page': 357, 'food': 358, 'mouth': 359, 'edit': 360, 'safety': 361, 'internet': 362, 'phonepe': 363, 'unit': 364, 'products': 365, 'dep': 366, 'checked': 367, 'website': 368, 'paid': 369, 'remember': 370, 'voucher': 371, 'avail': 372, 'contest': 373, 'fly': 374, 'word': 375, 'interest': 376, 'withdraw': 377, 'included': 378, 'days': 379, 'jet': 380, 'airways': 381, 'bonus': 382, 'latest': 383, 'kolkata': 384, 'guru': 385, 'nank': 386, 'jayanti': 387, 'plans': 388, 'franchisee': 389, 'tests': 390, 'travel': 391, 'stamp': 392, 'duty': 393, 'items': 394, 'mylife': 395, 'team': 396, 'quotes': 397, 'movies': 398, 'understand': 399, 'flat': 400, 'leader': 401, 'policy': 402, 'property': 403, 'indian': 404, 'bsnl': 405, 'eligible': 406, 'sending': 407, 'took': 408, 'root': 409, 'showing': 410, 'wallet': 411, 'person': 412, 'winnings': 413, 'cdsl': 414, 'u': 415, 'verify': 416, 'upcoming': 417, 'location': 418, 'sample': 419, 'level': 420, 'beauty': 421, 'start': 422, 'bike': 423, 'multiple': 424, 'tax': 425, 'industries': 426, 'online': 427, 'payout': 428, 'options': 429, 'feb': 430, 'blocked': 431, 'sores': 432, 'appointment': 433, 'package': 434, 'close': 435, 'project': 436, 'charging': 437, 'boy': 438, 'holidays': 439, 'zodiac': 440, 'canal': 441, 'reduce': 442, 'going': 443, 'nahi': 444, 'kids': 445, 'types': 446, 'airport': 447, 'cancellation': 448, 'penang': 449, 'ahmedabad': 450, 'broadband': 451, 'invoices': 452, 'th': 453, '9w': 454, '823': 455, 'old': 456, 'bad': 457, 'baggage': 458, 'vendor': 459, 'invest': 460, 'easy': 461, 'web': 462, 'subscriptions': 463, 'petrol': 464, 'log': 465, 'enter': 466, 'switzerland': 467, 'confirmation': 468, 'invite': 469, 'trade': 470, 'messages': 471, 'shows': 472, 'minimum': 473, 'destinations': 474, 'cafe': 475, 'job': 476, 'type': 477, 'term': 478, 'paying': 479, 'shares': 480, 'size': 481, 'consuming': 482, 'problem': 483, 'holiday': 484, 'application': 485, 'sms': 486, 'contract': 487, 'sir': 488, 'human': 489, 'registration': 490, 'remiand': 491, 'channels': 492, 'wealth': 493, 'access': 494, 'nh7': 495, 'weekeender': 496, 'rent': 497, 'collect': 498, 'saving': 499, 'shop': 500, 'contests': 501, 'cancelling': 502, 'student': 503, 'true': 504, 'safe': 505, 'recharged': 506, 'inform': 507, 'sell': 508, 'availabilty': 509, 'different': 510, 'india': 511, 'submit': 512, 'customized': 513, 'request': 514, 'escalation': 515, 'cleaning': 516, 'pump': 517, 'married': 518, 'slow': 519, 'business': 520, 'changing': 521, 'seats': 522, 'copy': 523, 'return': 524, 'dry': 525, 'related': 526, 'sent': 527, 'plumbing': 528, 'ac': 529, 'gift': 530, 'industrial': 531, 'period': 532, 'comparison': 533, 'join': 534, 'exercising': 535, 'bot': 536, 'limit': 537, 'investment': 538, 'selection': 539, 'visit': 540, 'wana': 541, 'month': 542, 'happy': 543, 'predict': 544, 'goibibo': 545, 'resident': 546, 'installation': 547, 'track': 548, 'round': 549, 'wrong': 550, 'register': 551, 'giving': 552, 'calling': 553, 'weather': 554, 'clause': 555, 'refill': 556, 'cinema': 557, 'formed': 558, 'changes': 559, 'promo': 560, 'honeymoon': 561, 'sale': 562, 'applicable': 563, 'license': 564, 'better': 565, 'cart': 566, 'concession': 567, 'points': 568, 'scores': 569, 'pan': 570, 'ranking': 571, 'hyundai': 572, 'paint': 573, 'desk': 574, 'events': 575, 'formation': 576, 'amritsar': 577, 'm': 578, 'having': 579, 'room': 580, 'insurance': 581, 'support': 582, 'touch': 583, 'registered': 584, 'guarantee': 585, 'spend': 586, 'aadhar': 587, 'matches': 588, 'provider': 589, 'area': 590, 'value': 591, 'hate': 592, 'invalid': 593, 'personal': 594, 'lounge': 595, 'enroll': 596, 'industry': 597, 'raise': 598, 'cards': 599, 'cover': 600, 'quantity': 601, 'wi': 602, 'pickup': 603, 'product': 604, 'citibank': 605, 'guys': 606, 'listed': 607, 'thank': 608, 'falls': 609, 'to': 610, 'vouchers': 611, 'medical': 612, 'notification': 613, 'winning': 614, 'girl': 615, 'park': 616, 'english': 617, 'post': 618, 'units': 619, 'departure': 620, 'wakeup': 621, 'came': 622, 'jan': 623, 'rail': 624, 'install': 625, 'matrix': 626, 'transaction': 627, 'lacs': 628, 'sales': 629, 'friends': 630, 'hindi': 631, 'gym': 632, 'pick': 633, 'taken': 634, 'system': 635, 'recharge': 636, 'customers': 637, 'review': 638, 'difference': 639, 'outlet': 640, 'device': 641, 'rm': 642, 'borrower': 643, 'dates': 644, 'pricing': 645, 'helpful': 646, 'family': 647, 'shv': 648, 'chat': 649, 'painter': 650, 'yesterdays': 651, 'child': 652, 'accounts': 653, 'currency': 654, 'digital': 655, 'higher': 656, 'emailed': 657, 'design': 658, 'center': 659, 'goes': 660, 'liability': 661, 'vle': 662, 'fi': 663, 'non': 664, 'takes': 665, 'leakage': 666, 'muje': 667, 'mila': 668, 'debit': 669, 'amenities': 670, '21st': 671, 'compulsory': 672, 'dream': 673, 'laptop': 674, 'language': 675, 'low': 676, 'allowance': 677, 'claim': 678, 'resort': 679, 'interior': 680, 'opening': 681, 'inbound': 682, 'steps': 683, 'added': 684, 'storage': 685, 'taking': 686, 'children': 687, 'final': 688, 'making': 689, 'gold': 690, 'token': 691, 'mauritius': 692, 'locate': 693, 'windows': 694, 'colors': 695, 'aadhaar': 696, 'minor': 697, 'loans': 698, 'pharmacy': 699, 'turn': 700, 'vizag': 701, 'channel': 702, 'form': 703, 'trying': 704, 'tooth': 705, 'pending': 706, 'fair': 707, 'srinagar': 708, 'emi': 709, 'armed': 710, 'note': 711, 'complete': 712, 'detail': 713, 'create': 714, 'defect': 715, 'broken': 716, 'maxima': 717, 'wheels': 718, 'tyres': 719, 'enquire': 720, 'commercial': 721, 'favourite': 722, 'aaya': 723, 'stove': 724, 'samples': 725, 'decreases': 726, 'info': 727, 'tip': 728, 'subscribe': 729, 'c': 730, 'exact': 731, 'mangalore': 732, 'maximum': 733, 'hrs': 734, 'reset': 735, 'evolve': 736, 'refunded': 737, 'atm': 738, 'expiry': 739, 'document': 740, 'appoinment': 741, 'structure': 742, 'fix': 743, 'real': 744, 'plumber': 745, 'carpentry': 746, 'agent': 747, 'arrival': 748, 'common': 749, 'energy': 750, 'manifold': 751, 'training': 752, 'result': 753, 'point': 754, 'advise': 755, 'secur': 756, 'works': 757, 'cities': 758, 'alds': 759, 'delay': 760, 'maharashtra': 761, 'sedan': 762, 'function': 763, 'difficult': 764, 'forgot': 765, 'remainder': 766, 'lost': 767, 'cable': 768, 'liable': 769, 'series': 770, 'office': 771, 'hcv': 772, 'rna': 773, 'finding': 774, 'friend': 775, 'foreign': 776, 'dentist': 777, 'double': 778, 'bulk': 779, 'sxr': 780, 'dehli': 781, 'sizes': 782, 'select': 783, 'times': 784, 'ache': 785, 'worked': 786, 'updated': 787, 'rera': 788, 'distributor': 789, 'refundable': 790, 'ready': 791, 'failed': 792, 'bengluru': 793, 'state': 794, 'require': 795, 'feedback': 796, 'installations': 797, 'profile': 798, 'ifsc': 799, 'custom': 800, 'kind': 801, 'checkup': 802, 'thumbs': 803, 'spa': 804, 'tyre': 805, 'tds': 806, 'administration': 807, 'signal': 808, 'things': 809, 'force': 810, 'notes': 811, 'websites': 812, 'nsdl': 813, 'documentation': 814, 'listing': 815, 'haptic': 816, 'testing': 817, 'worst': 818, 'confirm': 819, 'journey': 820, 'city': 821, 'transferring': 822, 'platform': 823, 'complaints': 824, 'content': 825, 'collected': 826, 'minutes': 827, 'convert': 828, 'hotels': 829, 'winner': 830, 'international': 831, 'star': 832, 'cutter': 833, '2nd': 834, 'july': 835, 'fuck': 836, 'costly': 837, 'quality': 838, 'fuel': 839, 'bangkok': 840, 'hdfc': 841, 'control': 842, 'senior': 843, 'chart': 844, 'site': 845, 'browse': 846, 'developer': 847, 'duronto': 848, 'mtv': 849, 'ols': 850, 'wheel': 851, 'quota': 852, 'trouble': 853, 'watch': 854, 'district': 855, 'meet': 856, 'joined': 857, 'calls': 858, 'valentine': 859, 'portal': 860, 'manage': 861, 'marathi': 862, 'evening': 863, 'makemytrip': 864, 'changed': 865, 'arrive': 866, 'workshops': 867, 'hand': 868, 'growth': 869, 'happens': 870, 'everytime': 871, 'try': 872, 'liver': 873, 'teams': 874, 'meaning': 875, 'love': 876, 'idea': 877, 'mutton': 878, 'thanks': 879, 'yatra': 880, 'way': 881, 'drops': 882, 'police': 883, 'policies': 884, 'buses': 885, 'micro': 886, 'resolution': 887, 'iphone': 888, 'story': 889, 'category': 890, 'lunch': 891, 'terrace': 892, 'kon': 893, 'carpenter': 894, 'weight': 895, 'canker': 896, 'power': 897, 'land': 898, 'doorstep': 899, 'frequency': 900, 'position': 901, 'withdrawal': 902, 'asf': 903, 'german': 904, 'r': 905, 'coming': 906, 'banking': 907, 'facilities': 908, 'gst': 909, 'vaseline': 910, 'surge': 911, 'customize': 912, 'reflecting': 913, 'places': 914, 'reach': 915, 'mode': 916, 'repay': 917, 'terrible': 918, 'irctc': 919, 'additional': 920, 'apartment': 921, 'replacement': 922, 'funding': 923, 'vs': 924, 'single': 925, 'problems': 926, 'department': 927, 'notifications': 928, 'ho': 929, 'recharges': 930, 'learn': 931, 'calculation': 932, 'big': 933, 'basket': 934, 'citizen': 935, 'south': 936, 'simple': 937, 'computer': 938, 'line': 939, 'suv': 940, 'normal': 941, 'defence': 942, 'painted': 943, 'wining': 944, 'checkin': 945, 'advance': 946, 'vehicle': 947, 'destination': 948, 'redressal': 949, 'promoter': 950, 'lease': 951, 'core': 952, 'mandatory': 953, 'rembo': 954, 'offline': 955, 'receipts': 956, 'electrical': 957, 'accessories': 958, 'mantralaya': 959, 'ways': 960, 'stocks': 961, 'shopping': 962, 'regular': 963, 'super': 964, 'hell': 965, 'reliance': 966, 'tv': 967, 'opportunities': 968, 'hw': 969, 'regulators': 970, 'act': 971, 'months': 972, 'experience': 973, 'fun': 974, 'salaried': 975, 'clear': 976, 'bmi': 977, 'batch': 978, 'coaching': 979, 'homes': 980, 'provides': 981, 'bali': 982, 'basic': 983, 'think': 984, 'calorific': 985, 'makes': 986, 'persons': 987, 'women': 988, '4': 989, 'rapid': 990, 'setup': 991, 'brokerage': 992, 'joy': 993, 'permission': 994, 'activate': 995, 'tum': 996, 'todays': 997, 'coffee': 998, 'save': 999, 'unsold': 1000, 'distribution': 1001, 'accomodating': 1002, 'teeth': 1003, 'hotspots': 1004, 'week': 1005, 'emergency': 1006, 'public': 1007, 'reschedule': 1008, 'lender': 1009, 'identify': 1010, 'timing': 1011, 'indigo': 1012, 'mtnl': 1013, 'impact': 1014, 'physical': 1015, 'recieved': 1016, 'tenant': 1017, 'upload': 1018, 'airfare': 1019, 'mentioned': 1020, 'd2h': 1021, 'redeem': 1022, 'crores': 1023, 'suggested': 1024, 'transferred': 1025, 'uninstall': 1026, 'mention': 1027, 'allowed': 1028, 'game': 1029, 'submitted': 1030, 'ios': 1031, 'checks': 1032, 'compared': 1033, 'widal': 1034, 'broke': 1035, 'world': 1036, 'theatre': 1037, 'federation': 1038, 'mall': 1039, 'dd': 1040, 'rr': 1041, 'sugar': 1042, 'guest': 1043, 'clothes': 1044, 'intensive': 1045, 'treatment': 1046, 'cam': 1047, 'news': 1048, 'market': 1049, 'investor': 1050, 'user': 1051, 'name': 1052, 'loss': 1053, 'generate': 1054, 'entire': 1055, 'questions': 1056, 'upgrade': 1057, 'annoying': 1058, 'reply': 1059, 'remaind': 1060, 'helpdesk': 1061, 'passed': 1062, 'improve': 1063, 'fairplay': 1064, 'organising': 1065, 'government': 1066, 'inviting': 1067, 'steel': 1068, 'repaying': 1069, 'opt': 1070, 't': 1071, 'goal': 1072, 'outstation': 1073, 'great': 1074, 'prepone': 1075, 'zindagi': 1076, 'speed': 1077, 'successful': 1078, 'existing': 1079, 'expensive': 1080, 'diesel': 1081, 'rejected': 1082, 'distributed': 1083, 'regulator': 1084, 'rubber': 1085, 'amc': 1086, 'reality': 1087, 'risky': 1088, 'manual': 1089, 'ppc': 1090, 'chargeable': 1091, 'deducted': 1092, 'hsd': 1093, 'fan': 1094, 'seeding': 1095, 'tiffin': 1096, 'breakdown': 1097, 'dinner': 1098, 'parking': 1099, 'lets': 1100, 'customised': 1101, 'forces': 1102, 'loi': 1103, 'deep': 1104, 'cars': 1105, '5th': 1106, 'checking': 1107, 'refills': 1108, 'diagnosis': 1109, 'alaram': 1110, 'cleartrip': 1111, 'ask': 1112, 'talking': 1113, 'delivering': 1114, 'assistant': 1115, 'ideas': 1116, 'grievances': 1117, 'waiting': 1118, 'wait': 1119, 'statement': 1120, 'jobs': 1121, 'airlines': 1122, 'son': 1123, 'gud': 1124, 'swap': 1125, 'charged': 1126, 'casback': 1127, 'recieve': 1128, 'rude': 1129, 'continue': 1130, 'stupid': 1131, 'playing': 1132, 'looked': 1133, 'bangla': 1134, 'hall': 1135, 'earn': 1136, 'keyboard': 1137, 'tsp': 1138, 'grade': 1139, 'parlour': 1140, 'providing': 1141, 'response': 1142, 'troublesome': 1143, 'arrange': 1144, 'event': 1145, 'logging': 1146, 'apple': 1147, 'action': 1148, 'guests': 1149, 'program': 1150, 'dental': 1151, 'gaye': 1152, 'closed': 1153, 'success': 1154, 'sessions': 1155, 'hair': 1156, 'android': 1157, 'rewards': 1158, 'challenge': 1159, 'costing': 1160, 'adopters': 1161, 'browsing': 1162, 'teach': 1163, 'rupay': 1164, 'repaired': 1165, 'connecting': 1166, 'criti': 1167, 'benfits': 1168, 'whatsapp': 1169, 'recommended': 1170, 'margin': 1171, 'playstore': 1172, 'mpin': 1173, 'softcopy': 1174, 'conversion': 1175, 'north': 1176, 'default': 1177, 'facility': 1178, 'tankers': 1179, 'carpet': 1180, 'years': 1181, 'searching': 1182, 'extraction': 1183, 'ride': 1184, 'painting': 1185, 'identity': 1186, 'pool': 1187, 'muv': 1188, 'srv': 1189, 'sv': 1190, 'codes': 1191, 'abt': 1192, 'notifying': 1193, 'verification': 1194, 'nigam': 1195, 'private': 1196, 'holdings': 1197, 'prediction': 1198, 'asap': 1199, 'validity': 1200, 'alternate': 1201, 'remedy': 1202, 'competitive': 1203, 'reachable': 1204, 'stayfit': 1205, 'bluetooth': 1206, 'availing': 1207, 'tomorrows': 1208, 'roaming': 1209, 'lower': 1210, 'ipo': 1211, 'colonel': 1212, 'miss': 1213, 'profit': 1214, 'vaporizer': 1215, 'smoke': 1216, 'asking': 1217, 'end': 1218, 'discuss': 1219, 'present': 1220, 'fire': 1221, 'termination': 1222, 'rental': 1223, 'vistara': 1224, 'sq': 1225, 'feet': 1226, 'centric': 1227, 'pictures': 1228, 'itinerary': 1229, 'forklift': 1230, 'amazing': 1231, 'nature': 1232, 'surrender': 1233, 'complain': 1234, 'acquire': 1235, 'chatbot': 1236, 'data': 1237, 'tie': 1238, 'downloading': 1239, 'impossible': 1240, 'issued': 1241, 'fact': 1242, 'geraworld': 1243, 'verified': 1244, 'airline': 1245, 'cloth': 1246, 'applied': 1247, 'videos': 1248, 'renewal': 1249, 'wine': 1250, 'closing': 1251, 'lal': 1252, 'beats': 1253, 'phosphoric': 1254, 'acid': 1255, 'age': 1256, 'mf': 1257, 'centre': 1258, 'song': 1259, 'maintain': 1260, 'linking': 1261, 'exchange': 1262, 'ceiling': 1263, 'adminstration': 1264, 'resolved': 1265, 'contributes': 1266, 'outstanding': 1267, 'lines': 1268, 'openings': 1269, 'parental': 1270, 'hour': 1271, 'enrollment': 1272, 'sports': 1273, 'revise': 1274, 'christine': 1275, 'valmy': 1276, 'wax': 1277, 'wedding': 1278, 'choice': 1279, 'min': 1280, 'contagious': 1281, 'pl': 1282, 'fast': 1283, 'kitchen': 1284, 'academy': 1285, 'balancing': 1286, 'addressing': 1287, 'educational': 1288, 'boring': 1289, 'vitran': 1290, 'funny': 1291, 'class': 1292, 'tanker': 1293, 'switch': 1294, 'applicant': 1295, 'rupees': 1296, 'wnt': 1297, 'member': 1298, 'headset': 1299, 'accepted': 1300, 'activities': 1301, 'saying': 1302, 'mmt': 1303, 'pumps': 1304, 'future': 1305, 'doctor': 1306, 'customise': 1307, 'triple': 1308, 'marker': 1309, 'sex': 1310, 'second': 1311, 'airasia': 1312, 'meant': 1313, 'singapore': 1314, 'drawbacks': 1315, 'inclusions': 1316, 'special': 1317, 'filled': 1318, 'furniture': 1319, 'alignment': 1320, 'alloy': 1321, 'adopter': 1322, 'assistance': 1323, 'replace': 1324, 'file': 1325, 'reserve': 1326, 'traveling': 1327, 'individual': 1328, 'csr': 1329, 'local': 1330, 'west': 1331, 'gm': 1332, 'gets': 1333, 'suck': 1334, 'bullshit': 1335, 'games': 1336, 'orders': 1337, 'strong': 1338, 'begin': 1339, 'thailand': 1340, 'sleep': 1341, 'withdrawing': 1342, 'history': 1343, 'said': 1344, 'marketing': 1345, 'satisfied': 1346, 'presence': 1347, '12b': 1348, 'indians': 1349, 'tube': 1350, 'building': 1351, 'include': 1352, 'hidden': 1353, 'assign': 1354, 'sponsor': 1355, 'packages': 1356, 'village': 1357, 'roles': 1358, 'cashbook': 1359, 'clean': 1360, 'disctrict': 1361, 'selected': 1362, 'queries': 1363, 'pest': 1364, 'enquiry': 1365, 'lightning': 1366, 'expect': 1367, 'segment': 1368, 'path': 1369, 'draft': 1370, 'standard': 1371, 'compliant': 1372, 'rs': 1373, 'exist': 1374, 'east': 1375, 'taxi': 1376, 'advertising': 1377, 'cables': 1378, 'uploading': 1379, 'takula': 1380, 'mega': 1381, 'answer': 1382, 'regional': 1383, 'risk': 1384, 'convience': 1385, 'stories': 1386, 'retrieve': 1387, 'hatchback': 1388, 'shops': 1389, 'people': 1390, 'florist': 1391, 'violation': 1392, 'citizens': 1393, 'increase': 1394, 'certificate': 1395, 'completion': 1396, 'zone': 1397, 'cb': 1398, 'composition': 1399, 'repairman': 1400, 'geyser': 1401, 'sofa': 1402, 'pancard': 1403, 'considered': 1404, 'route': 1405, 'fraud': 1406, 'bihar': 1407, 'credidted': 1408, 'debited': 1409, 'stock': 1410, 'nov': 1411, 'study': 1412, 'thums': 1413, 'relatives': 1414, 'town': 1415, '08qi6d': 1416, 'royal': 1417, 'enfield': 1418, 'question': 1419, 'limited': 1420, 'gates': 1421, 'nice': 1422, 'yaar': 1423, 'overpriced': 1424, 'beneficial': 1425, 'prescribed': 1426, 'aaple': 1427, 'sarkar': 1428, 'format': 1429, 'query': 1430, 'leo': 1431, 'marriage': 1432, 'words': 1433, 'eticket': 1434, 'cheque': 1435, 'dominos': 1436, 'cause': 1437, 'canceled': 1438, 'medicines': 1439, 'caring': 1440, 'interface': 1441, 'mins': 1442, 'disconnect': 1443, 'includes': 1444, 'waste': 1445, 'gala': 1446, 'slight': 1447, 'appoinmtment': 1448, 'progress': 1449, 'factor': 1450, 'authentication': 1451, 'pc': 1452, 'allow': 1453, 'legality': 1454, 'proposal': 1455, 'conveyance': 1456, 'sanders': 1457, 'traveller': 1458, 'hai': 1459, 'paisa': 1460, 'means': 1461, 'madarchod': 1462, 'todo': 1463, 'reserving': 1464, 'uninstalling': 1465, 'ltd': 1466, 'incase': 1467, 'hr': 1468, 'paypal': 1469, 'ledger': 1470, 'prolactin': 1471, 'larger': 1472, 'preserve': 1473, 'net': 1474, 'extension': 1475, 'jamshedpur': 1476, 'samsung': 1477, 'bottling': 1478, 'coins': 1479, 'seeking': 1480, 'mental': 1481, 's2u': 1482, 'detected': 1483, 'hus': 1484, 'trainings': 1485, 'travelling': 1486, 'initiatives': 1487, 'zoomcar': 1488, 'mother': 1489, 'ultimate': 1490, 'calories': 1491, 'exising': 1492, 'landlines': 1493, 'participants': 1494, 'memorable': 1495, 'depart': 1496, 'printed': 1497, 'installments': 1498, 'disburse': 1499, 'indoor': 1500, 'employee': 1501, 'correspondence': 1502, 'organisation': 1503, 'infrastructure': 1504, 'billing': 1505, 'load': 1506, 'processing': 1507, 'saturday': 1508, 'run': 1509, 'appliances': 1510, 'swasth': 1511, 'legal': 1512, 'aries': 1513, 'defective': 1514, 'affect': 1515, 'costs': 1516, 'average': 1517, 'construction': 1518, 'manicure': 1519, 'washing': 1520, 'rights': 1521, 'jaw': 1522, 'owner': 1523, 'dividend': 1524, 'cancer': 1525, 'skin': 1526, 'glass': 1527, 'fanta': 1528, 'adjustable': 1529, 'rotation': 1530, 'plm': 1531, 'salted': 1532, 'q': 1533, 'customizable': 1534, 'script': 1535, 'fixed': 1536, 'stylist': 1537, 'cut': 1538, 'blow': 1539, 'baby': 1540, 'layout': 1541, 'menu': 1542, 'taluka': 1543, 'kinder': 1544, 'operation': 1545, 'loading': 1546, 'expire': 1547, 'telangana': 1548, 'estimated': 1549, 'selling': 1550, 'connections': 1551, 'worries': 1552, 'hot': 1553, 'activated': 1554, 'immediate': 1555, 'libra': 1556, 'compaint': 1557, 'pull': 1558, 'cucumber': 1559, 'limeade': 1560, 'smaller': 1561, 'amore': 1562, 'gadget': 1563, 'guwahati': 1564, 'shared': 1565, 'cheesy': 1566, 'lowest': 1567, 'knw': 1568, 'functional': 1569, 'left': 1570, 'beta': 1571, 'hcg': 1572, 'avoid': 1573, 'dr': 1574, 'strategy': 1575, 'locations': 1576, 'signup': 1577, 'touchlight': 1578, 'speaker': 1579, 'advantage': 1580, 'pedicure': 1581, 'pathology': 1582, 'bses': 1583, 'wash': 1584, 'attend': 1585, 'machines': 1586, 'coloring': 1587, 'consumption': 1588, 'canteen': 1589, 'bitten': 1590, 'lip': 1591, 'checkpoints': 1592, 'mini': 1593, 'advantages': 1594, 'tamil': 1595, 'veena': 1596, 'security': 1597, 'measures': 1598, 'protect': 1599, 'aid': 1600, 'unregistered': 1601, 'calendar': 1602, 'participation': 1603, 'deliver': 1604, 'membership': 1605, 'neft': 1606, 'rtgs': 1607, 'residence': 1608, 'tongue': 1609, 'detan': 1610, 'arms': 1611, 'cheep': 1612, 'majeure': 1613, 'cumulative': 1614, 'bugs': 1615, 'logout': 1616, 'nail': 1617, 'mseb': 1618, 'prepaid': 1619, 'version': 1620, 'supplied': 1621, 'lose': 1622, 'iron': 1623, 'committed': 1624, 'residing': 1625, 'swelling': 1626, 'swollen': 1627, 'sam': 1628, 'calculated': 1629, 'chimney': 1630, 'battery': 1631, 'tap': 1632, 'cahsback': 1633, 'starts': 1634, 'childrens': 1635, 'builder': 1636, 'completed': 1637, 'excluding': 1638, 'blues': 1639, 'reduced': 1640, 'numbers': 1641, 'charger': 1642, 'odour': 1643, 'condominium': 1644, 'lead': 1645, 'wheeler': 1646, 'allottees': 1647, 'approve': 1648, 'maintained': 1649, 'laugh': 1650, 'click': 1651, 'hold': 1652, 'sundays': 1653, 'adding': 1654, 'co': 1655, 'purpose': 1656, 'luggage': 1657, 'reasons': 1658, 'november': 1659, 'commodities': 1660, 'cv': 1661, 'pdf': 1662, 'e7sthi': 1663, 'closure': 1664, 'separate': 1665, 'signing': 1666, 'material': 1667, 'shut': 1668, 'iam': 1669, 'adjust': 1670, 'consideration': 1671, 'nomination': 1672, 'pragati': 1673, 'maidan': 1674, 'credentials': 1675, 'listen': 1676, 'dint': 1677, 'tried': 1678, 'properties': 1679, 'payable': 1680, 'lend': 1681, 'dense': 1682, 'jungle': 1683, 'hotspot': 1684, 'unlink': 1685, 'holder': 1686, 'alcohol': 1687, 'concierge': 1688, 'chats': 1689, 'retry': 1690, 'approved': 1691, 'situation': 1692, 'complains': 1693, 'username': 1694, 'returns': 1695, 'currencies': 1696, 'boys': 1697, 'fucker': 1698, 'nights': 1699, 'kotak': 1700, 'implant': 1701, 'gazette': 1702, 'inactive': 1703, 'client': 1704, 'spontaneous': 1705, 'awareness': 1706, 'fails': 1707, 'wins': 1708, 'uploaded': 1709, 'cancelle': 1710, 'honda': 1711, 'ingredients': 1712, 'thumbsup': 1713, 'referring': 1714, 'cup': 1715, 'trin': 1716, 'visible': 1717, 'mind': 1718, 'permanent': 1719, 'desktop': 1720, 'disbursal': 1721, 'crossed': 1722, 'haemoglobin': 1723, 'functionalities': 1724, 'capricorn': 1725, 'tasks': 1726, 'tubes': 1727, 'organise': 1728, 'cch': 1729, 'provided': 1730, 'hd': 1731, 'buying': 1732, 'advanced': 1733, 'inventory': 1734, 'midc': 1735, 'slut': 1736, 'urgent': 1737, 'engagement': 1738, 'performing': 1739, 'futures': 1740, 'sunday': 1741, 'offered': 1742, 'chair': 1743, 'mean': 1744, 'cadhback': 1745, 'nagar': 1746, 'partner': 1747, 'enquires': 1748, '7a': 1749, '7b': 1750, 'tenants': 1751, 'xerostomia': 1752, 'batches': 1753, 'nite': 1754, 'expert': 1755, 'indane': 1756, 'hpcl': 1757, 'bpcl': 1758, 'nominate': 1759, 'dowload': 1760, 'seasonal': 1761, 'ktm': 1762, 'duke': 1763, 'banks': 1764, 'papers': 1765, 'supporting': 1766, 'charting': 1767, 'fit': 1768, 'tenure': 1769, 'following': 1770, 'requirements': 1771, 'dakshin': 1772, 'haryana': 1773, 'bijli': 1774, 'it': 1775, 'dropbox': 1776, '2br': 1777, 'everyday': 1778, 'boilers': 1779, 'thermic': 1780, 'fluid': 1781, 'heaters': 1782, 'academies': 1783, 'meals': 1784, 'middle': 1785, 'scan': 1786, 'road': 1787, 'burger': 1788, 'audience': 1789, 'men': 1790, 'repairs': 1791, 'stands': 1792, 'studio': 1793, 'gifts': 1794, 'marry': 1795, 'un': 1796, 'sold': 1797, 'crashing': 1798, 'selective': 1799, 'pisces': 1800, 'notify': 1801, 'hope': 1802, 'poa': 1803, 'achieve': 1804, 'ramadan': 1805, 'uses': 1806, 'followed': 1807, 'table': 1808, 'opportunity': 1809, 'grandchildren': 1810, 'bday': 1811, 'internship': 1812, 'drying': 1813, 'cgms': 1814, 'soaps': 1815, 'lumpsum': 1816, 'squads': 1817, 'experienced': 1818, 'photographer': 1819, 'perfect': 1820, 'doubt': 1821, 'aligned': 1822, 'leak': 1823, 'viral': 1824, 'mofa': 1825, 'bites': 1826, 'kit': 1827, 'yamuna': 1828, 'wooden': 1829, 'salon': 1830, 'purposes': 1831, 'litres': 1832, 'aspartame': 1833, 'including': 1834, 'ai': 1835, 'attended': 1836, 'inactivated': 1837, 'gross': 1838, 'uk': 1839, 'shall': 1840, 'started': 1841, '29th': 1842, 'massage': 1843, 'wisdom': 1844, 'helpline': 1845, 'october': 1846, 'servicing': 1847, 'implants': 1848, 'calculator': 1849, 'completing': 1850, 'dead': 1851, 'removal': 1852, 'accept': 1853, 'told': 1854, 'monsoon': 1855, 'babies': 1856, 'contribute': 1857, 'bathrooms': 1858, 'possesion': 1859, 'supposed': 1860, 'leftover': 1861, 'afraid': 1862, 'monday': 1863, 'chabot': 1864, 'webcheckin': 1865, 'requirement': 1866, 'vidhut': 1867, 'voice': 1868, 'ordering': 1869, 'announce': 1870, 'space': 1871, 'bore': 1872, 'clss': 1873, 'insulin': 1874, 'collateral': 1875, 'disposal': 1876, 'responding': 1877, 'wireless': 1878, 'behave': 1879, 'ixigo': 1880, 'trending': 1881, 'bigger': 1882, 'rubbish': 1883, 'staying': 1884, 'hydrated': 1885, 'bleeding': 1886, 'webcheck': 1887, 'klift': 1888, 'executed': 1889, 'plot': 1890, 'disgusting': 1891, 'intl': 1892, 'awning': 1893, 'adjusted': 1894, 'located': 1895, 'economy': 1896, 'basis': 1897, 'maternal': 1898, 'abuse': 1899, 'childre': 1900, 'motivate': 1901, 'corporation': 1902, 'approx': 1903, 'stated': 1904, 'lending': 1905, 'tt': 1906, 'edge': 1907, 'club': 1908, 'updation': 1909, 'showcased': 1910, 'break': 1911, 'spanish': 1912, 'screen': 1913, 'holding': 1914, 'litigations': 1915, 'disclosed': 1916, 'refinance': 1917, 'flue': 1918, 'frequent': 1919, 'analysis': 1920, 'contractors': 1921, 'plz': 1922, 'voot': 1923, 'map': 1924, 'google': 1925, 'launch': 1926, 'import': 1927, 'headphones': 1928, 'plants': 1929, 'plant': 1930, 'friday': 1931, 'pics': 1932, 'professional': 1933, 'operator': 1934, 'hanging': 1935, 'displaying': 1936, 'window': 1937, 'wishlist': 1938, 'hu': 1939, 'unused': 1940, 'orange': 1941, 'amt': 1942, 'bridal': 1943, 'mba': 1944, 'unknown': 1945, 'mocktail': 1946, 'shelf': 1947, 'chance': 1948, 'mahindra': 1949, 'unutilized': 1950, 'ideal': 1951, 'besc': 1952, 'mescdl': 1953, 'recheduling': 1954, 'integrate': 1955, 'upto': 1956, 'catch': 1957, 'victim': 1958, 'cesc': 1959, 'lame': 1960, 'describe': 1961, 'permissions': 1962, 'peso': 1963, 'fell': 1964, 'kiss': 1965, 'man': 1966, 'msedcl': 1967, 'deposits': 1968, 'rule': 1969, 'allotment': 1970, 'entities': 1971, 'passes': 1972, 'budget': 1973, 'flavours': 1974, 'door': 1975, 'handling': 1976, 'sputum': 1977, 'tuberculosis': 1978, 'maharera': 1979, 'beginners': 1980, 'rescheduling': 1981, 'cross': 1982, 'alram': 1983, 'pipa': 1984, 'sharing': 1985, 'ordered': 1986, 'ceo': 1987, 'dieticians': 1988, 'mms': 1989, 'midway': 1990, 'clubhouse': 1991, 'handed': 1992, 'mclr': 1993, 'french': 1994, 'calcium': 1995, 'thyroid': 1996, 'row': 1997, 'calculators': 1998, 'operated': 1999, 'bugatti': 2000, 'vearon': 2001, 'audit': 2002, 'systems': 2003, 'detaills': 2004, 'replacing': 2005, 'representative': 2006, 'relative': 2007, 'sytem': 2008, 'logo': 2009, 'psus': 2010, 'wo': 2011, 'moved': 2012, 'advocate': 2013, 'purchasing': 2014, 'idiot': 2015, 'cure': 2016, 'jerk': 2017, 'equity': 2018, 'availablity': 2019, 'telling': 2020, 'users': 2021, 'december': 2022, 'cod': 2023, 'activation': 2024, 'alredy': 2025, 'donuts': 2026, 'bible': 2027, 'wellness': 2028, 'caramel': 2029, 'jeete': 2030, 'ga': 2031, 'x2': 2032, '3': 2033, 'accounted': 2034, 'thane': 2035, 'branch': 2036, '30lacs': 2037, 'withdrawn': 2038, 'accomodate': 2039, '1br': 2040, 'kgs': 2041, 'kakinada': 2042, 'supported': 2043, 'waist': 2044, 'images': 2045, 'vacancy': 2046, 'efforts': 2047, 'bride': 2048, 'integration': 2049, 'teri': 2050, 'maa': 2051, 'beautiful': 2052, 'dp': 2053, 'boost': 2054, 'karna': 2055, 'gender': 2056, 'chating': 2057, 'remark': 2058, 'reason': 2059, 'pertaining': 2060, 'fo': 2061, 'recover': 2062, 'flats': 2063, 'sponsorship': 2064, 'foolish': 2065, 'girlfriend': 2066, 'viewing': 2067, 'supplier': 2068, 'usable': 2069, 'balcony': 2070, 'converted': 2071, 'registering': 2072, 'signed': 2073, 'beverages': 2074, 'signs': 2075, 'main': 2076, 'damaged': 2077, 'placed': 2078, 'shitty': 2079, 'max': 2080, 'bots': 2081, 'usb': 2082, 'tez': 2083, 'cng': 2084, 'hear': 2085, 'unsafe': 2086, 'gather': 2087, 'licensee': 2088, 'bengal': 2089, 'logic': 2090, 'bachelor': 2091, 'york': 2092, 'outdoor': 2093, 'participate': 2094, 'approval': 2095, 'brilliant': 2096, 'kettle': 2097, 'n': 2098, 'borrow': 2099, 'staff': 2100, 'reservation': 2101, 'deposited': 2102, 'levelup': 2103, 'hdf': 2104, 'transferable': 2105, '1': 2106, 'igi': 2107, 'chatbots': 2108, 'college': 2109, 'choose': 2110, 'wbscdcl': 2111, 'creta': 2112, 'harmful': 2113, 'motorcycle': 2114, 'aerosal': 2115, 'initiated': 2116, 'rms': 2117, 'bombay': 2118, 'reminding': 2119, 'decided': 2120, 'pub': 2121, 'bucket': 2122, 'queues': 2123, 'wating': 2124, 'jaipur': 2125, 'shavalgad': 2126, 'overview': 2127, 'media': 2128, 'head': 2129, 'hlv': 2130, 'partnership': 2131, 'network18': 2132, 'color': 2133, 'covered': 2134, 'stuck': 2135, 'wants': 2136, 'bit': 2137, 'unemployed': 2138, 'kent': 2139, 'useful': 2140, 'direct': 2141, 'firing': 2142, 'vendors': 2143, 'stand': 2144, 'ensure': 2145, 'captcha': 2146, 'image': 2147, 'electronic': 2148, 'deactivate': 2149, 'nadu': 2150, 'handover': 2151, 'ray': 2152, 'subject': 2153, 'edc': 2154, 'complicated': 2155, 'waitlist': 2156, 'rbi': 2157, 'kaise': 2158, 'challenging': 2159, 'video': 2160, 'improvement': 2161, 'umang': 2162, 'step': 2163, 'discussed': 2164, 'agreed': 2165, 'selecting': 2166, 'smell': 2167, 'hepatitics': 2168, 'nowaday': 2169, 'bar': 2170, 'electrician': 2171, 'sounds': 2172, 'interesting': 2173, 'managed': 2174, 'owners': 2175, 'trinity': 2176, 'towers': 2177, 'sky': 2178, 'villa': 2179, 'effects': 2180, 'reciept': 2181, 'transit': 2182, 'forex': 2183, 'gujarati': 2184, 'importance': 2185, 'auction': 2186, 'understood': 2187, 'hero': 2188, 'glamour': 2189, 'centers': 2190, 'southern': 2191, 'waking': 2192, 'metabolism': 2193, 'patient': 2194, 'cleaner': 2195, 'rajasthan': 2196, 'rajya': 2197, 'vidyut': 2198, 'prasaran': 2199, 'torrent': 2200, 'choot': 2201, 'record': 2202, 'boiling': 2203, 'lot': 2204, 'players': 2205, 'kerala': 2206, 'urine': 2207, 'routine': 2208, 'primary': 2209, 'machine': 2210, 'houses': 2211, 'consumer': 2212, 'colouring': 2213, 'contacted': 2214, 'lie': 2215, 'oc': 2216, 'iftaar': 2217, 'extinguishers': 2218, 'cyber': 2219, 'demand': 2220, 'facial': 2221, 'threading': 2222, 'eyebrows': 2223, 'upper': 2224, 'legs': 2225, 'oil': 2226, 'paisadukan': 2227, 'inspection': 2228, 'increased': 2229, 'appgc': 2230, 'scorpion': 2231, 'late': 2232, 'modes': 2233, 'areas': 2234, 'updating': 2235, 'early': 2236, 'subscribed': 2237, 'removed': 2238, 'granted': 2239, 'network': 2240, 'autodebit': 2241, 'feature': 2242, 'deemed': 2243, 'leadership': 2244, 'disbursement': 2245, 'abandoned': 2246, 'follow': 2247, 'guideline': 2248, 'filling': 2249, 'hfrp': 2250, 'dentures': 2251, 'll': 2252, 'chemist': 2253, 'rides': 2254, 'aerosol': 2255, 'prepayment': 2256, 'restaurant': 2257, 'income': 2258, 'securities': 2259, 'odia': 2260, 'original': 2261, 'preference': 2262, 'precautions': 2263, 'march': 2264, 'notice': 2265, 'ton': 2266, 'pe': 2267, 'cater': 2268, 'formalities': 2269, '75lacs': 2270, 'signature': 2271, 'stage': 2272, 'undertaking': 2273, 'seasoul': 2274, 'sea': 2275, 'tan': 2276, 'cuticle': 2277, 'clipping': 2278, 'scrub': 2279, 'linkage': 2280, 'conditioner': 2281, 'fake': 2282, 'preventive': 2283, 'mosquito': 2284, 'drinks': 2285, 'architect': 2286, 'resetting': 2287, 'orthodontic': 2288, 'felling': 2289, 'sick': 2290, 'doctors': 2291, 'humans': 2292, 'bba': 2293, 'convince': 2294, 'wizard': 2295, 'constitutes': 2296, 'rc': 2297, 'mercaptan': 2298, 'led': 2299, 'headphone': 2300, 'personnel': 2301, 'programs': 2302, 'solutions': 2303, 'lamborghini': 2304, 'ferrari': 2305, 'circuit': 2306, 'doctr': 2307, 'vitamin': 2308, 'b12': 2309, 'sry': 2310, 'bt': 2311, 'blinds': 2312, 'blind': 2313, 'capable': 2314, 'captain': 2315, 'sra': 2316, 'markets': 2317, 'racing': 2318, 'mortgage': 2319, 'scratch': 2320, 'wer': 2321, 'leads': 2322, 'exciting': 2323, '🔮': 2324, 'annual': 2325, 'toll': 2326, 'ajmer': 2327, 'jhodhpur': 2328, 'permissible': 2329, 'stations': 2330, 'intent': 2331, 'seasons': 2332, 'bhejo': 2333, 'plese': 2334, 'scheme': 2335, 'weekends': 2336, 'extensive': 2337, 'management': 2338, 'issuing': 2339, 'attorney': 2340, 'attorneys': 2341, 'inspired': 2342, 'inspiring': 2343, 'statutory': 2344, 'norms': 2345, 'relation': 2346, 'agrees': 2347, 'receives': 2348, 'emoloyees': 2349, 'vat': 2350, 'reacharge': 2351, 'raising': 2352, 'input': 2353, 'profession': 2354, 'autoconnect': 2355, 'necessary': 2356, 'ashtamudi': 2357, 'childer': 2358, 'andhra': 2359, 'pradesh': 2360, 'generation': 2361, 'reckoner': 2362, 'indicating': 2363, 'decision': 2364, 'serials': 2365, 'concerned': 2366, 'inspections': 2367, 'listings': 2368, 'hassle': 2369, 'travellers': 2370, 'kya': 2371, 'tumko': 2372, 'investors': 2373, 'ends': 2374, 'lipid': 2375, 'title': 2376, 'component': 2377, 'tripura': 2378, 'quoting': 2379, 'succes': 2380, 'url': 2381, 'hybrid': 2382, 'model': 2383, 'childs': 2384, 'block': 2385, 'companies': 2386, 'videographers': 2387, 'guy': 2388, 'consent': 2389, 'letter': 2390, 'devices': 2391, 'instruments': 2392, 'attracting': 2393, 'escalate': 2394, 'icr': 2395, 'drawn': 2396, 'wells': 2397, 'fixing': 2398, 'press': 2399, 'button': 2400, 'videocon': 2401, 'portfolio': 2402, 'discontinue': 2403, 'bridge': 2404, 'studies': 2405, 'method': 2406, 'pre': 2407, 'flexible': 2408, 'france': 2409, 'driver': 2410, 'denied': 2411, 'qcity': 2412, 'honorary': 2413, 'chlorine': 2414, 'uhh': 2415, 'recipets': 2416, 'f': 2417, 'chandigarh': 2418, 'functionality': 2419, 'small': 2420, 'romance': 2421, 'vegetarian': 2422, 'advisor': 2423, 'initial': 2424, 'fascinating': 2425, 'cococola': 2426, 'tnx': 2427, 'internsip': 2428, 'financial': 2429, 'chromoanalusia': 2430, 'maha': 2431, 'defense': 2432, 'akbar': 2433, 'pooja': 2434, 'levelling': 2435, 'heir': 2436, 'father': 2437, 'soj': 2438, 'bag': 2439, 'taxes': 2440, 'cancelled': 2441, 'sufficient': 2442, 'subscriber': 2443, 'fifa': 2444, 'internsi': 2445, 'lenovo': 2446, 'ayurvedic': 2447, 'pure': 2448, 'glow': 2449, 'maaza': 2450, 'records': 2451, 'picking': 2452, '24th': 2453, 'rise': 2454, 'section': 2455, 'intitatives': 2456, 'chairs': 2457, 'sanction': 2458, 'mad': 2459, 'unsure': 2460, 'gone': 2461, 'leading': 2462, 'verse': 2463, 'verses': 2464, 'aaj': 2465, 'ka': 2466, 'kal': 2467, '90lacs': 2468, 'intelligent': 2469, 'families': 2470, 'k': 2471, 'gtb': 2472, 'dwnload': 2473, 'telugu': 2474, 'b': 2475, 'intrested': 2476, 'mobil': 2477, 'rejuvenating': 2478, 'shoulder': 2479, 'stylists': 2480, 'desired': 2481, 'shampoo': 2482, 'kinley': 2483, 'soda': 2484, 'acceptance': 2485, 'executive': 2486, 'summary': 2487, 'chut': 2488, 'chuda': 2489, 'le': 2490, 'dine': 2491, 'restaurants': 2492, 'player': 2493, 'creator': 2494, 'robot': 2495, 'h': 2496, 'pays': 2497, 'substantial': 2498, 'cancels': 2499, 'attach': 2500, 'franchise': 2501, 'proper': 2502, 'supreme': 2503, 'development': 2504, 'inch': 2505, 'cc': 2506, 'can': 2507, 'cyinders': 2508, 'philips': 2509, 'music': 2510, 'resume': 2511, 'inoa': 2512, 'unsigned': 2513, 'pathologist': 2514, 'utility': 2515, 'acting': 2516, 'boss': 2517, '✏': 2518, '️companyname': 2519, 'damage': 2520, 'advertise': 2521, 'impacting': 2522, 'watching': 2523, 'proportion': 2524, 'ldo': 2525, 'generators': 2526, 'equipment': 2527, 'dropping': 2528, 'feel': 2529, 'feeling': 2530, 'cool': 2531, 'kichha': 2532, 'udham': 2533, 'singh': 2534, 'recruiters': 2535, 'postings': 2536, 'deleting': 2537, 'opens': 2538, 'chances': 2539, 'deliveries': 2540, 'confirming': 2541, 'bandra': 2542, 'learning': 2543, 'mistakes': 2544, 'mistake': 2545, 'unhappy': 2546, 'resolve': 2547, 'stainless': 2548, 'inspirational': 2549, 'stopped': 2550, 'hvnt': 2551, 'unoccupied': 2552, 'writing': 2553, 'write': 2554, 'recruitment': 2555, 'goals': 2556, 'excessive': 2557, 'belong': 2558, 'handset': 2559, 'moon': 2560, 'slab': 2561, 'created': 2562, 'consequences': 2563, 'instrument': 2564, 'vaporiser': 2565, 'automobiles': 2566, 'stores': 2567, 'custmized': 2568, 'rech': 2569, 'members': 2570, 'identiy': 2571, 'overall': 2572, 'column': 2573, 'knock': 2574, 'knocked': 2575, 'accreditation': 2576, 'agency': 2577, 'tick': 2578, 'item': 2579, 'forget': 2580, 'actions': 2581, 'aswell': 2582, 'concerning': 2583, 'offices': 2584, 'lodge': 2585, 'vh1': 2586, 'supersonic': 2587, 'rajdhani': 2588, 'elec': 2589, 'num': 2590, 'pallet': 2591, 'trolley': 2592, 'misses': 2593, 'lookings': 2594, '50rs': 2595, 'nav': 2596, 'staffs': 2597, 'degraded': 2598, '➕': 2599, 'comment': 2600, 'suppose': 2601, 'fittings': 2602, 'fixtures': 2603, 'squad': 2604, 'wiring': 2605, 'wire': 2606, 'limits': 2607, 'dealer': 2608, 'purifier': 2609, 'applying': 2610, 'accepting': 2611, 'penetration': 2612, 'motor': 2613, 'fiber': 2614, 'frm': 2615, 'repairing': 2616, 'returned': 2617, 'autostart': 2618, 'udf': 2619, 'processed': 2620, 'adenoid': 2621, 'x': 2622, 'rejection': 2623, 'mom': 2624, 'release': 2625, 'levels': 2626, 'ye': 2627, 'kaam': 2628, 'karta': 2629, 'extension2': 2630, 'central': 2631, 'tmt': 2632, 'dated': 2633, 'cheques': 2634, 'mrng': 2635, 'residential': 2636, 'crashed': 2637, 'visiting': 2638, 'authorized': 2639, 'measure': 2640, 'effeciency': 2641, 'validty': 2642, 'bewitching': 2643, 'mam': 2644, 'played': 2645, 'mens': 2646, 'buggatti': 2647, 'kyc': 2648, 'caffeine': 2649, 'ill': 2650, 'prepay': 2651, 'promotions': 2652, 'tells': 2653, '10l': 2654, '5l': 2655, 'excluded': 2656, 'callback': 2657, 'bs4': 2658, 'jharkhand': 2659, 'toss': 2660, 'practice': 2661, 'proof': 2662, 'purview': 2663, 'loving': 2664, 'risks': 2665, 'showsother': 2666, 'tastic': 2667, 'bought': 2668, 'jungles': 2669, 'specify': 2670, 'spcific': 2671, 'equities': 2672, 'railways': 2673, 'undertake': 2674, 'horlick': 2675, 'horlicks': 2676, 'appropriate': 2677, 'authority': 2678, 'knowing': 2679, 'sucks': 2680, 'plzz': 2681, 'thiruvalla': 2682, 'ravishing': 2683, 'rankings': 2684, 'automate': 2685, 'gb': 2686, 'delightful': 2687, 'languages': 2688, 'dick': 2689, 'availed': 2690, 'wud': 2691, 'detection': 2692, 'objective': 2693, 'surrendered': 2694, 'upgrades': 2695, 'hiring': 2696, 'cbc': 2697, 'kft': 2698, 'peson': 2699, 'session': 2700, 'starting': 2701, 'met': 2702, 'accident': 2703, 'purcharse': 2704, 'sector': 2705, 'sr': 2706, 'refinary': 2707, 'parents': 2708, 'ladies': 2709, 'washed': 2710, 'solve': 2711, 'rely': 2712, 'radiance': 2713, 'olive': 2714, 'whitening': 2715, 'loreal': 2716, 'breezy': 2717, 'no': 2718, '2': 2719, 'civil': 2720, 'hospital': 2721, 'kharar': 2722, 'calculare': 2723, 'communicate': 2724, 'esclate': 2725, 'exclusion': 2726, 'skipped': 2727, 'sightseeing': 2728, 'departs': 2729, 'hapetitis': 2730, 'balconies': 2731, 'cinemas': 2732, 'repayment': 2733, 'cord': 2734, 'estate': 2735, 'himalayan': 2736, 'national': 2737, 'hoses': 2738, 'disclose': 2739, 'suitable': 2740, 'wasted': 2741, 'helpfull': 2742, 'fasting': 2743, 'blue': 2744, 'print': 2745, 'soa': 2746, 'fixture': 2747, 'courses': 2748, 'course': 2749, 'toppers': 2750, 'kolakata': 2751, 'crime': 2752, 'neet': 2753, 'programme': 2754, 'contribution': 2755, 'developers': 2756, 'limca': 2757, 'pakistan': 2758, 'africa': 2759, 'vaselines': 2760, 'dues': 2761, 'fuckers': 2762, 'gon': 2763, 'rating': 2764, 'detecting': 2765, 'hsg': 2766, 'overcharges': 2767, 'heater': 2768, 'difficulty': 2769, 'patna': 2770, 'realated': 2771, 'infant': 2772, 'jain': 2773, 've': 2774, 'forgotten': 2775, 'enrolling': 2776, 'claimed': 2777, 'major': 2778, 'target': 2779, 'allotted': 2780, 'engine': 2781, 'saudi': 2782, 'gwailor': 2783, 'locked': 2784, 'specifications': 2785, 'cleaned': 2786, 'quick': 2787, 'overcharging': 2788, 'misplaced': 2789, 'publicity': 2790, 'clinic': 2791, 'says': 2792, 'dimension': 2793, 'tandem': 2794, 'laundry': 2795, 'filing': 2796, 'deed': 2797, 'favor': 2798, 'association': 2799, 'browser': 2800, 'mesmerizing': 2801, 'limitation': 2802, 'grocery': 2803, 'misty': 2804, 'calculating': 2805, 'click2protect': 2806, 'guidelines': 2807, 'sip': 2808, 'relocating': 2809, 'safari': 2810, 'refilling': 2811, 'recipient': 2812, 'colour': 2813, 'conclusion': 2814, 'opg': 2815, 'jio': 2816, 'majirel': 2817, 'recent': 2818, 'recgarge': 2819, 'coverfox': 2820, 'distances': 2821, 'clauses': 2822, 'shoot': 2823, 'chennai': 2824, 'responsibility': 2825, 'wife': 2826, 'identification': 2827, 'monitored': 2828, 'msg': 2829, 'leaking': 2830, 'behaves': 2831, 'read': 2832, 'tracking': 2833, 'roof': 2834, 'achieving': 2835, 'tits': 2836, 'porn': 2837, 'wondering': 2838, 'pathlab': 2839, 'shifting': 2840, 'contain': 2841, 'lenders': 2842, 'smart': 2843, 'reject': 2844, 'instal': 2845, 'framework': 2846, 'robotic': 2847, 'responses': 2848, 'bajaj': 2849, 'speaking': 2850, 'capacity': 2851, 'statements': 2852, 'turnaround': 2853, 'approvals': 2854, 'ironing': 2855, 'comes': 2856, 'helping': 2857, 'dematerialization': 2858, 'specified': 2859, 'duration': 2860}\n"
     ]
    }
   ],
   "source": [
    "\n",
    "\n",
    "embed = curr_x['sent_1'] + ' ' + curr_x['sent_2']\n",
    "embed.head()\n",
    "\n",
    "tok_emb = Tokenizer()\n",
    "tok_emb.fit_on_texts(embed)\n",
    "\n",
    "print(tok_emb.word_index)\n",
    "\n",
    "\n",
    "\n",
    "#word_index = list({**tok_1.word_index, tok_2.word_index}.values())"
   ]
  },
  {
   "cell_type": "code",
   "execution_count": 11,
   "metadata": {},
   "outputs": [
    {
     "name": "stdout",
     "output_type": "stream",
     "text": [
      "GloVe data loaded\n"
     ]
    }
   ],
   "source": [
    "embeddings_index = {}\n",
    "f = open('glove.6B.50d.txt', encoding = 'utf-8')\n",
    "for line in f:\n",
    "    values = line.split(' ')\n",
    "    word = values[0] ## The first entry is the word\n",
    "    coefs = np.asarray(values[1:], dtype='float32') ## These are the vecotrs representing the embedding for the word\n",
    "    embeddings_index[word] = coefs\n",
    "f.close()\n",
    "print('GloVe data loaded')\n",
    "\n",
    "\n",
    "max_num_1 = len(tok_1.word_index) + 1\n",
    "word_index_1 = tok_1.word_index\n",
    "EMBEDDING_DIM = embeddings_index.get('a').shape[0]\n",
    "num_words_1 = min(max_num_1, len(word_index_1)) + 1\n",
    "embedding_matrix_1 = np.zeros((num_words_1, EMBEDDING_DIM))\n",
    "\n",
    "for word, i in word_index_1.items():\n",
    "    if i > max_num_1:\n",
    "        continue\n",
    "    embedding_vector = embeddings_index.get(word) ## This references the loaded embeddings dictionary\n",
    "    if embedding_vector is not None:\n",
    "        # words not found in embedding index will be all-zeros.\n",
    "        embedding_matrix_1[i] = embedding_vector\n",
    "\n",
    "\n",
    "max_num_2 = len(tok_2.word_index) + 1\n",
    "word_index_2 = tok_2.word_index\n",
    "num_words_2 = min(max_num_2, len(word_index_2)) + 1\n",
    "embedding_matrix_2 = np.zeros((num_words_2, EMBEDDING_DIM))\n",
    "\n",
    "for word, i in word_index_2.items():\n",
    "    if i > max_num_2:\n",
    "        continue\n",
    "    embedding_vector = embeddings_index.get(word) ## This references the loaded embeddings dictionary\n",
    "    if embedding_vector is not None:\n",
    "        # words not found in embedding index will be all-zeros.\n",
    "        embedding_matrix_2[i] = embedding_vector\n",
    "\n",
    "        "
   ]
  },
  {
   "cell_type": "code",
   "execution_count": 12,
   "metadata": {},
   "outputs": [
    {
     "data": {
      "text/plain": [
       "(13635, 7)"
      ]
     },
     "execution_count": 12,
     "metadata": {},
     "output_type": "execute_result"
    }
   ],
   "source": [
    "#print(embedding_matrix_1[1])\n",
    "#print(embedding_matrix_2[9])\n",
    "#pad_seq_1_train.shape\n",
    "pad_seq_2_train.shape\n",
    "\n",
    "#y_train = to_categorical(y_train, 2)\n",
    "#y_test = to_categorical(y_test, 2)\n",
    "\n"
   ]
  },
  {
   "cell_type": "code",
   "execution_count": 13,
   "metadata": {},
   "outputs": [],
   "source": [
    "\n",
    "\n",
    "input_1  = Input(shape=(7,))\n",
    "input_2 = Input(shape = (7,))\n",
    "embedding_1 = Embedding(num_words_1, EMBEDDING_DIM, input_length=max_len,\n",
    "                      weights=[embedding_matrix_1], trainable=False)(input_1)\n",
    "\n",
    "embedding_2 = Embedding(num_words_2, EMBEDDING_DIM, input_length=max_len,\n",
    "                      weights=[embedding_matrix_2], trainable=False)(input_2)\n",
    "\n",
    "\n",
    "\n",
    "\n",
    "hidden_1 = LSTM(64,  activation=\"softmax\", return_sequences = True)(embedding_1)\n",
    "hidden_2 = LSTM(64, activation=\"softmax\", return_sequences = True)(embedding_2)\n",
    "\n",
    "flatten_1 = Flatten()(hidden_1)\n",
    "flatten_2 = Flatten()(hidden_2)\n",
    "\n",
    "concat = concatenate([flatten_1, flatten_2])\n",
    "\n",
    "hidden = Dense(1, activation = 'sigmoid')(concat)\n",
    "model = Model(inputs=[input_1, input_2], outputs=hidden)"
   ]
  },
  {
   "cell_type": "code",
   "execution_count": 14,
   "metadata": {},
   "outputs": [
    {
     "name": "stdout",
     "output_type": "stream",
     "text": [
      "Model: \"model\"\n",
      "__________________________________________________________________________________________________\n",
      "Layer (type)                    Output Shape         Param #     Connected to                     \n",
      "==================================================================================================\n",
      "input_1 (InputLayer)            [(None, 7)]          0                                            \n",
      "__________________________________________________________________________________________________\n",
      "input_2 (InputLayer)            [(None, 7)]          0                                            \n",
      "__________________________________________________________________________________________________\n",
      "embedding (Embedding)           (None, 7, 50)        119500      input_1[0][0]                    \n",
      "__________________________________________________________________________________________________\n",
      "embedding_1 (Embedding)         (None, 7, 50)        122750      input_2[0][0]                    \n",
      "__________________________________________________________________________________________________\n",
      "lstm (LSTM)                     (None, 7, 64)        29440       embedding[0][0]                  \n",
      "__________________________________________________________________________________________________\n",
      "lstm_1 (LSTM)                   (None, 7, 64)        29440       embedding_1[0][0]                \n",
      "__________________________________________________________________________________________________\n",
      "flatten (Flatten)               (None, 448)          0           lstm[0][0]                       \n",
      "__________________________________________________________________________________________________\n",
      "flatten_1 (Flatten)             (None, 448)          0           lstm_1[0][0]                     \n",
      "__________________________________________________________________________________________________\n",
      "concatenate (Concatenate)       (None, 896)          0           flatten[0][0]                    \n",
      "                                                                 flatten_1[0][0]                  \n",
      "__________________________________________________________________________________________________\n",
      "dense (Dense)                   (None, 1)            897         concatenate[0][0]                \n",
      "==================================================================================================\n",
      "Total params: 302,027\n",
      "Trainable params: 59,777\n",
      "Non-trainable params: 242,250\n",
      "__________________________________________________________________________________________________\n"
     ]
    }
   ],
   "source": [
    "model.compile(optimizer = 'adam', loss = 'binary_crossentropy', metrics = ['accuracy'])\n",
    "model.summary()"
   ]
  },
  {
   "cell_type": "code",
   "execution_count": 15,
   "metadata": {},
   "outputs": [
    {
     "name": "stdout",
     "output_type": "stream",
     "text": [
      "Epoch 1/20\n",
      "669/669 [==============================] - 3s 4ms/step - loss: 0.5776 - accuracy: 0.7379 - val_loss: 0.5122 - val_accuracy: 0.7985\n",
      "Epoch 2/20\n",
      "669/669 [==============================] - 2s 3ms/step - loss: 0.5570 - accuracy: 0.7388 - val_loss: 0.5095 - val_accuracy: 0.7985\n",
      "Epoch 3/20\n",
      "669/669 [==============================] - 3s 4ms/step - loss: 0.5496 - accuracy: 0.7388 - val_loss: 0.5050 - val_accuracy: 0.7985\n",
      "Epoch 4/20\n",
      "669/669 [==============================] - 3s 4ms/step - loss: 0.5432 - accuracy: 0.7388 - val_loss: 0.5010 - val_accuracy: 0.7985\n",
      "Epoch 5/20\n",
      "669/669 [==============================] - 3s 4ms/step - loss: 0.5376 - accuracy: 0.7388 - val_loss: 0.4984 - val_accuracy: 0.7985\n",
      "Epoch 6/20\n",
      "669/669 [==============================] - 3s 4ms/step - loss: 0.5325 - accuracy: 0.7389 - val_loss: 0.4911 - val_accuracy: 0.7985\n",
      "Epoch 7/20\n",
      "669/669 [==============================] - 3s 4ms/step - loss: 0.5271 - accuracy: 0.7396 - val_loss: 0.4895 - val_accuracy: 0.7985\n",
      "Epoch 8/20\n",
      "669/669 [==============================] - 2s 4ms/step - loss: 0.5222 - accuracy: 0.7420 - val_loss: 0.4857 - val_accuracy: 0.8022\n",
      "Epoch 9/20\n",
      "669/669 [==============================] - 2s 4ms/step - loss: 0.5169 - accuracy: 0.7461 - val_loss: 0.4786 - val_accuracy: 0.8022\n",
      "Epoch 10/20\n",
      "669/669 [==============================] - 2s 3ms/step - loss: 0.5115 - accuracy: 0.7533 - val_loss: 0.4697 - val_accuracy: 0.7985\n",
      "Epoch 11/20\n",
      "669/669 [==============================] - 2s 3ms/step - loss: 0.5064 - accuracy: 0.7572 - val_loss: 0.4784 - val_accuracy: 0.8059\n",
      "Epoch 12/20\n",
      "669/669 [==============================] - 2s 3ms/step - loss: 0.5016 - accuracy: 0.7629 - val_loss: 0.4696 - val_accuracy: 0.8132\n",
      "Epoch 13/20\n",
      "669/669 [==============================] - 2s 4ms/step - loss: 0.4976 - accuracy: 0.7650 - val_loss: 0.4674 - val_accuracy: 0.8132\n",
      "Epoch 14/20\n",
      "669/669 [==============================] - 2s 3ms/step - loss: 0.4933 - accuracy: 0.7680 - val_loss: 0.4574 - val_accuracy: 0.8132\n",
      "Epoch 15/20\n",
      "669/669 [==============================] - 2s 3ms/step - loss: 0.4901 - accuracy: 0.7705 - val_loss: 0.4587 - val_accuracy: 0.8095\n",
      "Epoch 16/20\n",
      "669/669 [==============================] - 2s 3ms/step - loss: 0.4868 - accuracy: 0.7724 - val_loss: 0.4597 - val_accuracy: 0.8132\n",
      "Epoch 17/20\n",
      "669/669 [==============================] - 2s 3ms/step - loss: 0.4836 - accuracy: 0.7744 - val_loss: 0.4550 - val_accuracy: 0.8095\n",
      "Epoch 18/20\n",
      "669/669 [==============================] - 2s 3ms/step - loss: 0.4808 - accuracy: 0.7773 - val_loss: 0.4529 - val_accuracy: 0.8205\n",
      "Epoch 19/20\n",
      "669/669 [==============================] - 2s 3ms/step - loss: 0.4777 - accuracy: 0.7801 - val_loss: 0.4546 - val_accuracy: 0.8278\n",
      "Epoch 20/20\n",
      "669/669 [==============================] - 2s 3ms/step - loss: 0.4748 - accuracy: 0.7812 - val_loss: 0.4530 - val_accuracy: 0.8205\n"
     ]
    },
    {
     "data": {
      "text/plain": [
       "<tensorflow.python.keras.callbacks.History at 0x231927342e8>"
      ]
     },
     "execution_count": 15,
     "metadata": {},
     "output_type": "execute_result"
    }
   ],
   "source": [
    "model.fit(x = [pad_seq_1_train, pad_seq_2_train], y = y_train, batch_size=20,\n",
    "                    epochs=20, verbose = 1, validation_split = 0.02, \n",
    "          validation_data = ([pad_seq_1_test, pad_seq_2_test], y_test))"
   ]
  },
  {
   "cell_type": "code",
   "execution_count": 16,
   "metadata": {},
   "outputs": [
    {
     "name": "stdout",
     "output_type": "stream",
     "text": [
      "27/27 [==============================] - 0s 3ms/step - loss: 0.5271 - accuracy: 0.7474\n"
     ]
    }
   ],
   "source": [
    "result = model.evaluate([pad_seq_1_test, pad_seq_2_test], y_test, batch_size = 128, verbose = 1)"
   ]
  },
  {
   "cell_type": "code",
   "execution_count": 17,
   "metadata": {},
   "outputs": [],
   "source": [
    "df_test = pd.read_csv('test.csv')\n",
    "\n",
    "\n",
    "\n",
    "test_1 = []\n",
    "test_2 = []\n",
    "pos_tag = ['PROPN', 'ADJ', 'NOUN', 'VERB']\n",
    "for text in df_test['sentence1']:\n",
    "    \n",
    "    x = []\n",
    "    s = nlp(text.lower())\n",
    "    for token in s:\n",
    "        if(token.text in nlp.Defaults.stop_words or token.text in punctuation):\n",
    "            continue\n",
    "        # 4\n",
    "        if(token.pos_ in pos_tag):\n",
    "            x.append(token.text)\n",
    "             \n",
    "    test_1.append(x)\n",
    "    \n",
    "for text in df_test['sentence2']:\n",
    "    #print(type(text))\n",
    "    x = []\n",
    "    s = nlp(text.lower())\n",
    "    for token in s:\n",
    "        if(token.text in nlp.Defaults.stop_words or token.text in punctuation):\n",
    "            continue\n",
    "        # 4\n",
    "        if(token.pos_ in pos_tag):\n",
    "            x.append(token.text)\n",
    "    test_2.append(x)\n",
    "#print(sent_2)\n",
    "\n",
    "\n",
    "test_dic = {'sent_1' : test_1, 'sent_2' : test_2}\n",
    "test_x = pd.DataFrame(test_dic)\n",
    "test_x.head()\n",
    "\n",
    "test_x['sent_1'] = test_x['sent_1'].str.join(' ')\n",
    "test_x['sent_2'] = test_x['sent_2'].str.join(' ')\n",
    "\n"
   ]
  },
  {
   "cell_type": "code",
   "execution_count": 18,
   "metadata": {},
   "outputs": [],
   "source": [
    "tok_3 = Tokenizer()\n",
    "tok_3.fit_on_texts(test_x['sent_1'])\n",
    "seq_3_train = tok_3.texts_to_sequences(test_x['sent_1'])\n",
    "\n",
    "tok_4 = Tokenizer()\n",
    "tok_4.fit_on_texts(test_x['sent_2'])\n",
    "seq_4_train = tok_4.texts_to_sequences(test_x['sent_2'])\n",
    "\n",
    "\n",
    "test_pad_seq_1 = pad_sequences(seq_3_train, padding = 'post', maxlen = max_len)\n",
    "test_pad_seq_2 = pad_sequences(seq_4_train, padding = 'post', maxlen = max_len)\n",
    "\n"
   ]
  },
  {
   "cell_type": "code",
   "execution_count": 19,
   "metadata": {},
   "outputs": [],
   "source": [
    "prediction = model.predict([test_pad_seq_1, test_pad_seq_2])"
   ]
  },
  {
   "cell_type": "code",
   "execution_count": 20,
   "metadata": {},
   "outputs": [
    {
     "name": "stdout",
     "output_type": "stream",
     "text": [
      "[[0.29060045]\n",
      " [0.0847874 ]\n",
      " [0.10919279]\n",
      " ...\n",
      " [0.05230966]\n",
      " [0.07820967]\n",
      " [0.06466958]]\n"
     ]
    }
   ],
   "source": [
    "print(prediction)\n",
    "\n",
    "pred = prediction.flatten().tolist()"
   ]
  },
  {
   "cell_type": "code",
   "execution_count": 21,
   "metadata": {},
   "outputs": [
    {
     "name": "stdout",
     "output_type": "stream",
     "text": [
      "[0, 0, 0, 0, 0, 0, 0, 0, 1, 0, 0, 0, 0, 0, 0, 0, 0, 0, 0, 0, 0, 0, 0, 0, 0, 1, 0, 0, 1, 0, 1, 0, 0, 1, 0, 0, 0, 0, 0, 0, 0, 0, 0, 0, 0, 0, 0, 0, 0, 0, 0, 0, 0, 0, 0, 0, 1, 0, 1, 0, 0, 0, 0, 0, 0, 0, 0, 0, 0, 0, 0, 0, 0, 0, 0, 0, 0, 0, 0, 1, 0, 0, 0, 0, 0, 0, 0, 0, 0, 0, 0, 0, 0, 0, 0, 0, 0, 0, 0, 0, 1, 1, 0, 0, 0, 0, 0, 0, 0, 0, 0, 0, 0, 0, 0, 0, 0, 0, 0, 0, 0, 0, 0, 0, 1, 0, 0, 0, 0, 0, 0, 0, 0, 0, 0, 0, 1, 0, 0, 0, 0, 0, 0, 0, 0, 1, 0, 0, 0, 0, 0, 0, 0, 0, 0, 0, 0, 0, 0, 0, 0, 0, 0, 0, 0, 0, 0, 1, 0, 1, 1, 0, 0, 0, 0, 1, 0, 0, 0, 0, 0, 0, 0, 0, 0, 0, 0, 0, 0, 1, 1, 0, 0, 0, 0, 0, 0, 0, 0, 0, 0, 0, 0, 1, 0, 0, 0, 0, 0, 0, 1, 0, 0, 0, 0, 0, 0, 0, 0, 0, 0, 0, 0, 0, 1, 0, 0, 0, 1, 1, 0, 0, 0, 0, 0, 0, 0, 0, 0, 0, 0, 0, 0, 0, 0, 0, 0, 0, 0, 0, 0, 1, 0, 1, 0, 0, 0, 0, 0, 0, 0, 1, 0, 0, 0, 1, 1, 0, 0, 0, 1, 1, 0, 0, 0, 0, 1, 0, 1, 0, 0, 0, 0, 1, 0, 0, 0, 0, 0, 0, 0, 1, 0, 0, 0, 1, 0, 1, 0, 0, 0, 0, 0, 0, 0, 0, 0, 1, 0, 0, 0, 0, 0, 0, 0, 1, 0, 1, 0, 0, 1, 0, 0, 0, 0, 0, 0, 0, 0, 0, 0, 0, 0, 0, 0, 0, 0, 0, 1, 0, 0, 0, 0, 0, 1, 0, 0, 0, 0, 0, 0, 0, 0, 0, 0, 0, 0, 0, 0, 0, 0, 0, 0, 0, 0, 0, 0, 0, 0, 0, 0, 0, 0, 0, 0, 1, 0, 0, 0, 0, 1, 0, 0, 0, 0, 0, 0, 0, 0, 1, 0, 0, 0, 0, 0, 0, 1, 0, 1, 0, 0, 1, 0, 0, 0, 0, 0, 0, 0, 0, 0, 0, 0, 0, 0, 0, 0, 0, 0, 0, 0, 0, 0, 1, 0, 0, 0, 1, 1, 0, 0, 0, 0, 0, 0, 0, 0, 0, 0, 0, 0, 0, 0, 0, 0, 0, 0, 0, 0, 0, 0, 0, 0, 0, 0, 0, 0, 0, 0, 0, 1, 0, 0, 0, 0, 1, 0, 0, 0, 0, 0, 0, 0, 0, 0, 0, 0, 1, 0, 1, 0, 0, 0, 0, 0, 1, 0, 0, 0, 0, 0, 0, 1, 0, 0, 0, 0, 0, 0, 0, 1, 0, 0, 0, 0, 0, 1, 0, 0, 0, 0, 0, 0, 0, 0, 0, 1, 0, 0, 0, 1, 0, 0, 0, 0, 0, 0, 0, 0, 0, 0, 0, 0, 0, 0, 0, 0, 0, 0, 0, 0, 1, 1, 0, 0, 0, 0, 0, 0, 0, 0, 0, 0, 0, 0, 0, 0, 0, 0, 0, 0, 0, 0, 0, 0, 0, 0, 0, 0, 0, 0, 0, 0, 0, 0, 0, 0, 0, 0, 1, 0, 0, 0, 1, 1, 0, 0, 0, 0, 0, 0, 0, 0, 0, 0, 0, 0, 0, 0, 0, 0, 0, 0, 0, 0, 0, 0, 0, 1, 1, 0, 0, 0, 0, 0, 0, 0, 0, 0, 0, 0, 1, 0, 0, 0, 0, 1, 0, 0, 0, 0, 0, 0, 0, 0, 0, 0, 0, 1, 0, 1, 0, 0, 1, 0, 0, 0, 0, 1, 0, 0, 0, 0, 0, 0, 0, 0, 0, 0, 0, 0, 0, 0, 0, 1, 0, 0, 0, 0, 0, 0, 0, 1, 0, 0, 0, 0, 0, 0, 0, 0, 0, 0, 0, 0, 0, 0, 0, 0, 0, 0, 0, 0, 0, 0, 0, 0, 0, 0, 0, 0, 0, 0, 0, 0, 0, 1, 0, 0, 0, 0, 0, 0, 0, 1, 0, 0, 0, 1, 0, 0, 0, 0, 0, 0, 0, 0, 0, 0, 0, 1, 0, 0, 0, 0, 0, 0, 0, 0, 0, 0, 0, 1, 0, 0, 1, 0, 1, 0, 0, 0, 0, 0, 1, 0, 0, 0, 1, 1, 0, 0, 0, 0, 0, 0, 0, 0, 0, 1, 1, 0, 0, 0, 0, 0, 0, 0, 0, 0, 0, 0, 0, 0, 0, 0, 0, 0, 0, 0, 0, 0, 1, 0, 0, 0, 0, 0, 0, 0, 0, 0, 0, 0, 0, 0, 0, 0, 0, 0, 0, 0, 0, 0, 1, 0, 1, 0, 0, 0, 0, 0, 1, 0, 0, 0, 0, 1, 0, 1, 0, 0, 0, 0, 0, 0, 0, 0, 0, 0, 0, 0, 0, 0, 0, 0, 0, 0, 0, 0, 0, 0, 0, 0, 0, 0, 1, 0, 0, 0, 0, 0, 0, 0, 0, 0, 0, 0, 0, 0, 0, 0, 1, 0, 0, 0, 0, 0, 1, 1, 1, 0, 0, 0, 0, 0, 0, 0, 0, 0, 0, 0, 0, 0, 0, 0, 0, 0, 1, 0, 0, 0, 0, 0, 0, 0, 0, 0, 0, 0, 0, 0, 0, 1, 0, 0, 0, 0, 1, 0, 0, 0, 0, 0, 0, 0, 0, 0, 0, 0, 1, 0, 0, 0, 0, 0, 0, 0, 0, 0, 0, 0, 0, 0, 0, 0, 0, 0, 1, 0, 0, 0, 0, 0, 0, 0, 0, 0, 0, 0, 0, 0, 0, 1, 0, 0, 0, 0, 0, 0, 1, 0, 0, 0, 0, 0, 0, 0, 0, 1, 0, 1, 0, 1, 0, 1, 0, 0, 0, 0, 0, 0, 0, 0, 0, 0, 0, 0, 0, 0, 0, 0, 0, 0, 0, 0, 1, 1, 0, 0, 0, 0, 0, 0, 0, 0, 0, 0, 0, 0, 0, 0, 0, 0, 0, 0, 0, 0, 0, 0, 0, 0, 0, 0, 0, 0, 0, 0, 0, 0, 0, 0, 0, 0, 0, 0, 0, 0, 0, 0, 0, 0, 1, 0, 0, 0, 0, 0, 0, 0, 1, 1, 0, 0, 0, 0, 0, 0, 0, 0, 0, 0, 0, 0, 0, 0, 0, 1, 0, 0, 0, 0, 0, 0, 1, 0, 0, 0, 0, 0, 0, 0, 0, 0, 0, 0, 0, 0, 0, 0, 0, 0, 0, 0, 0, 0, 0, 0, 1, 1, 0, 0, 0, 0, 0, 0, 0, 0, 0, 0, 0, 0, 0, 1, 0, 0, 0, 0, 0, 0, 0, 0, 0, 0, 0, 0, 0, 0, 0, 0, 0, 0, 0, 0, 0, 0, 1, 0, 0, 0, 1, 0, 0, 0, 0, 1, 0, 0, 0, 1, 0, 0, 0, 0, 0, 0, 0, 0, 0, 0, 0, 0, 0, 0, 0, 0, 0, 0, 0, 0, 0, 0, 0, 0, 0, 0, 0, 0, 0, 0, 0, 0, 0, 0, 0, 0, 0, 0, 0, 0, 0, 0, 0, 0, 0, 0, 0, 1, 0, 0, 0, 0, 0, 0, 0, 0, 0, 0, 0, 1, 0, 0, 0, 0, 0, 0, 0, 0, 0, 0, 1, 0, 0, 0, 0, 0, 0, 0, 1, 0, 0, 0, 0, 0, 0, 0, 0, 0, 1, 0, 0, 0, 0, 0, 0, 0, 0, 0, 0, 1, 1, 0, 1, 0, 0, 0, 0, 0, 0, 0, 0, 0, 0, 0, 0, 0, 0, 0, 0, 0, 0, 0, 0, 0, 0, 0, 0, 0, 0, 0, 1, 0, 0, 0, 0, 0, 0, 0, 1, 0, 0, 0, 0, 0, 0, 0, 0, 0, 0, 0, 0, 0, 0, 1, 1, 0, 0, 0, 0, 0, 0, 1, 0, 1, 1, 0, 0, 0, 0, 0, 0, 1, 0, 0, 0, 0, 0, 0, 1, 0, 0, 0, 0, 0, 0, 0, 0, 0, 0, 0, 0, 0, 0, 0, 1, 0, 0, 0, 0, 0, 0, 0, 0, 0, 0, 0, 0, 0, 0, 0, 0, 0, 0, 0, 0, 0, 0, 0, 0, 0, 0, 0, 0, 1, 0, 0, 0, 1, 0, 0, 0, 0, 0, 0, 0, 0, 0, 0, 0, 0, 0, 0, 0, 0, 0, 0, 0, 1, 0, 1, 0, 0, 1, 0, 0, 0, 0, 0, 0, 0, 0, 0, 0, 0, 1, 0, 0, 0, 0, 0, 0, 0, 0, 0, 0, 0, 0, 0, 0, 0, 1, 0, 0, 0, 0, 0, 0, 0, 0, 0, 0, 0, 0, 0, 0, 0, 0, 0, 0, 0, 0, 0, 0, 1, 0, 0, 1, 0, 0, 0, 0, 0, 0, 0, 0, 0, 0, 0, 0, 0, 0, 0, 0, 0, 0, 0, 1, 0, 0, 0, 0, 0, 0, 0, 0, 0, 0, 0, 0, 0, 0, 0, 0, 0, 0, 0, 0, 0, 1, 0, 0, 0, 0, 1, 0, 0, 1, 0, 0, 0, 0, 0, 0, 0, 0, 0, 0, 0, 0, 0, 0, 0, 0, 0, 0, 0, 0, 0, 0, 0, 0, 0, 0, 0, 0, 0, 0, 0, 0, 0, 0, 0, 0, 0, 1, 0, 0, 0, 0, 0, 0, 0, 0, 0, 0, 0, 0, 0, 1, 0, 0, 0, 0, 0, 0, 0, 1, 0, 0, 0, 0, 0, 0, 0, 0, 0, 0, 0, 0, 0, 0, 0, 1, 0, 0, 1, 0, 0, 0, 1, 0, 0, 0, 0, 0, 0, 0, 1, 0, 0, 0, 0, 0, 0, 0, 0, 0, 0, 0, 0, 0, 0, 0, 0, 0, 0, 1, 0, 0, 0, 0, 0, 1, 0, 0, 0, 0, 0, 0, 0, 0, 1, 0, 0, 0, 0, 1, 0, 0, 0, 1, 1, 0, 0, 1, 0, 0, 0, 0, 0, 0, 0, 0, 0, 0, 0, 0, 0, 0, 0, 0, 0, 1, 1, 0, 0, 0, 0, 0, 0, 0, 0, 0, 0, 0, 0, 1, 0, 0, 1, 0, 0, 0, 0, 0, 0, 0, 1, 0, 0, 0, 0, 0, 0, 0, 0, 0, 0, 0, 0, 0, 0, 0, 0, 0, 0, 0, 0, 0, 0, 0, 0, 0, 0, 0, 0, 0, 0, 0, 1, 0, 0, 0, 0, 0, 0, 0, 0, 0, 0, 0, 0, 1, 1, 0, 0, 0, 0, 0, 0, 0, 0, 0, 0, 0, 0, 0, 0, 0, 0, 0, 0, 0, 0, 0, 0, 1, 0, 0, 0, 0, 0, 0, 0, 0, 0, 0, 0, 0, 0, 0, 0, 0, 0, 0, 0, 1, 1, 0, 0, 1, 0, 0, 0, 1, 0, 0, 0, 0, 1, 0, 1, 0, 0, 0, 0, 0, 0, 0, 0, 0, 0, 0, 0, 0, 0, 1, 0, 0, 0, 0, 0, 0, 0, 0, 0, 0, 0, 0, 0, 0, 0, 0, 0, 0, 0, 0, 0, 0, 0, 0, 1, 0, 0, 1, 0, 0, 0, 0, 0, 0, 0, 0, 1, 0, 0, 0, 1, 1, 0, 0, 1, 0, 0, 0, 0, 0, 0, 0, 0, 0, 0, 0, 0, 0, 0, 0, 0, 0, 1, 1, 0, 0, 0, 0, 0, 0, 0, 0, 1, 0, 0, 0, 0, 0, 0, 1, 0, 0, 0, 0, 0, 0, 0, 0, 0, 0, 0, 0, 1, 0, 0, 0, 0, 0, 0, 0, 1, 0, 0, 0, 0, 0, 0, 0, 0, 0, 0, 0, 0, 0, 0, 0, 0, 0, 1, 1, 0, 0, 0, 0, 0, 0, 0, 0, 0, 0, 0, 1, 0, 0, 0, 0, 0, 0, 0, 0, 0, 0, 0, 0, 0, 0, 0, 0, 0, 0, 0, 0, 0, 0, 0, 0, 0, 0, 0, 0, 0, 0, 0, 0, 0, 0, 0, 0, 0, 0, 0, 0, 0, 0, 0, 0, 0, 0, 0, 0, 0, 0, 0, 0, 0, 0, 0, 0, 0, 0, 0, 0, 0, 0, 0, 0, 0, 1, 0, 1, 0, 0, 0, 0, 1, 0, 0, 0, 0, 0, 0, 0, 0, 0, 0, 0, 0, 0, 0, 0, 1, 0, 0, 0, 1, 0, 0, 0, 0, 0, 0, 0, 0, 0, 0, 1, 0, 0, 0, 0, 0, 0, 0, 0, 0, 0, 0, 0, 0, 0, 0, 0, 0, 0, 0, 0, 0, 0, 0, 0, 0, 0, 0, 0, 0, 0, 0, 0, 0, 0, 0, 1, 0, 0, 0, 0, 0, 0, 0, 1, 0, 0, 0, 0, 0, 0, 1, 0, 0, 0, 0, 0, 0, 0, 0, 0, 0, 0, 0, 0, 0, 0, 0, 0, 0, 0, 0, 0, 1, 0, 0, 0, 0, 0, 0, 0, 0, 0, 0, 0, 0, 0, 0, 0, 0, 0, 0, 0, 0, 0, 0, 0, 0, 0, 1, 0, 0, 0, 0, 0, 0, 0, 0, 0, 0, 0, 1, 0, 0, 0, 0, 0, 0, 0, 0, 0, 0, 0, 0, 0, 0, 0, 0, 0, 0, 0, 0, 0, 1, 0, 0, 0, 1, 0, 0, 0, 0, 0, 0, 0, 0, 0, 0, 0, 0, 1, 0, 0, 0, 0, 1, 0, 0, 0, 0, 0, 0, 0, 0, 0, 0, 0, 0, 1, 0, 0, 1, 0, 0, 0, 1, 0, 0, 0, 0, 0, 1, 0, 0, 0, 0, 1, 0, 0, 0, 0, 0, 0, 0, 0, 0, 0, 0, 0, 0, 0, 0, 0, 0, 0, 1, 0, 0, 0, 0, 0, 0, 0, 0, 1, 0, 0, 0, 1, 1, 0, 0, 0, 0, 0, 0, 0, 0, 0, 1, 0, 0, 0, 1, 0, 0, 0, 0, 0, 0, 0, 0, 0, 0, 1, 0, 0, 0, 0, 0, 0, 0, 1, 0, 1, 0, 1, 0, 0, 0, 0, 0, 0, 0, 0, 0, 0, 0, 0, 0, 0, 0, 0, 0, 0, 0, 0, 0, 0, 0, 0, 0, 0, 0, 0, 0, 0, 0, 0, 0, 0, 0, 0, 0, 0, 0, 0, 0, 0, 0, 0, 0, 0, 1, 0, 0, 0, 0, 0, 0, 0, 0, 0, 0, 0, 0, 0, 0, 1, 0, 0, 0, 0, 0, 0, 0, 0, 0, 0, 0, 1, 0, 1, 0, 1, 0, 1, 1, 1, 0, 0, 0, 0, 0, 0, 0, 0, 0, 0, 0, 0, 0, 0, 0, 0, 0, 0, 1, 0, 0, 0, 1, 0, 1, 1, 0, 0, 0, 0, 0, 0, 0, 0, 0, 0, 0, 1, 0, 0, 0, 0, 0, 0, 0, 0, 0, 0, 0, 0, 0, 0, 0, 0, 0, 0, 1, 0, 1, 0, 0, 0, 0, 0, 0, 0, 0, 0, 0, 0, 0, 0, 0, 1, 0, 0, 0, 0, 0, 0, 0, 0, 1, 0, 1, 0, 0, 0, 0, 0, 0, 0, 0, 0, 0, 0, 0, 1, 0, 0, 1, 0, 1, 0, 0, 0, 0, 0, 0, 0, 0, 0, 0, 0, 0, 0, 0, 0, 0, 0, 0, 0, 0, 0, 0, 0, 0, 0, 0, 0, 0, 1, 0, 0, 0, 0, 0, 1, 0, 0, 1, 0, 0, 0, 1, 0, 0, 0, 0, 0, 0, 0, 0, 0, 0, 0, 0, 0, 0, 0, 0, 0, 0, 0, 0, 0, 0, 0, 0, 0, 0, 0, 0, 0, 0, 0, 1, 0, 0, 0, 0, 0, 0, 0, 0, 0, 0, 0, 0, 0, 0, 0, 0, 0, 0, 0, 0, 0, 0, 0, 0, 0, 0, 0, 0, 0, 0, 0, 0, 0, 0, 0, 0, 0, 0, 1, 0, 0, 0, 0, 0, 0, 0, 0, 0, 0, 1, 0, 0, 1, 0, 1, 0, 0, 0, 1, 0, 0, 0, 0, 0, 0, 0, 0, 0, 0, 0, 0, 0, 1, 0, 0, 0, 0, 0, 0, 0, 0, 0, 0, 0, 0, 0, 0, 0, 0, 0, 0, 0, 0, 0, 0, 0, 0, 0, 0, 1, 0, 1, 0, 0, 0, 0, 0, 1, 1, 0, 0, 0, 0, 0, 0, 0, 0, 0, 0, 0, 1, 1, 0, 0, 0, 0, 0, 0, 0, 0, 0, 0, 0, 1, 0, 0, 1, 0, 0, 0, 0, 0, 0, 1, 0, 0, 0, 0, 0, 0, 1, 0, 0, 0, 0, 0, 0, 0, 0, 0, 0, 0, 1, 0, 0, 1, 0, 0, 1, 0, 0, 0, 1, 0, 0, 0, 0, 0, 0, 0, 0, 0, 0, 0, 0, 0, 0, 0, 0, 0, 0, 0, 0, 0, 1, 0, 0, 0, 0, 0, 0, 1, 0, 0, 0, 0, 0, 0, 0, 0, 0, 0, 0, 0, 0, 0, 0, 0, 0, 0, 0, 0, 0, 1, 0, 0, 0, 0, 0, 0, 0, 0, 0, 0, 0, 0, 0, 0, 0, 0, 0, 1, 0, 0, 0, 0, 0, 0, 0, 0, 0, 0, 1, 0, 0, 0, 0, 0, 1, 0, 0, 0, 0, 0, 0, 0, 0, 0, 0, 1, 0, 0, 0, 0, 0, 0, 0, 0, 0, 1, 0, 0, 0, 0, 0, 0, 0, 0, 0, 1, 0, 0, 0, 0, 0, 0, 0, 0, 0, 0, 0, 1, 0, 0, 0, 1, 0, 0, 0, 0, 0, 0, 0, 0, 0, 0, 0, 0, 0, 0, 0, 0, 0, 0, 0, 0, 0, 0, 0, 0, 1, 0, 0, 0, 0, 0, 1, 0, 1, 0, 0, 0, 0, 1, 0, 0, 0, 0, 0, 0, 0, 0, 0, 0, 0, 0, 0, 0, 1, 1, 0, 0, 0, 0, 0, 0, 1, 0, 0, 0, 0, 0, 0, 0, 0, 0, 0, 0, 0, 0, 0, 0, 0, 0, 1, 0, 0, 0, 0, 1, 0, 0, 0, 0, 0, 0, 0, 0, 0, 0, 0, 0, 0, 0, 0, 0, 0, 0, 0, 0, 0, 0, 0, 0, 0, 0, 0, 0, 0, 0, 1, 0, 0, 0, 0, 0, 0, 1, 0, 0, 0, 0, 0, 0, 0, 0, 0, 1, 0, 0, 0, 0, 0, 0, 0, 0, 0, 1, 0, 0, 1, 0, 0, 0, 1, 0, 0, 0, 0, 0, 0, 0, 0, 0, 1, 0, 0, 0, 0, 0, 0, 0, 0, 0, 0, 0, 0, 0, 0, 0, 0, 0, 0, 0, 0, 0, 1, 0, 0, 0, 0, 1, 0, 0, 0, 0, 0, 0, 0, 0, 0, 0, 0, 0, 0, 0, 0, 0, 0, 0, 0, 0, 0, 0, 0, 0, 1, 0, 0, 1, 0, 0, 1, 0, 0, 1, 0, 0, 0, 1, 0, 0, 0, 0, 1, 0, 0, 0, 0, 0, 0, 0, 0, 1, 0, 0, 0, 0, 0, 0, 0, 0, 0, 0, 0, 0, 0, 0, 0, 0, 0, 0, 0, 0, 0, 0, 0, 0, 0, 0, 0, 0, 0, 0, 0, 1, 0, 0, 1, 0, 0, 0, 1, 0, 0, 0, 0, 0, 0, 1, 0, 0, 0, 0, 0, 1, 0, 0, 1, 0, 0, 0, 0, 0, 0, 0, 0, 0, 0, 0, 0, 0, 1, 0, 0, 0, 1, 0, 0, 0, 0, 0, 1, 0, 1, 0, 0, 1, 0, 0, 1, 0, 1, 0, 0, 0, 0, 0, 0, 0, 1, 0, 0, 0, 0, 0, 0, 0, 1, 0, 1, 0, 0, 0, 0, 0, 1, 0, 0, 0, 0, 0, 1, 0, 0, 0, 0, 0, 0, 0, 0, 0, 0, 0, 0, 0, 1, 0, 0, 0, 0, 0, 0, 0, 0, 0, 0, 0, 0, 0, 0, 0, 0, 0, 0, 0, 0, 0, 0, 0, 0, 0, 1, 0, 0, 0, 1, 0, 0, 0, 0, 0, 0, 1, 0, 0, 1, 0, 0, 0, 0, 0, 0, 0, 0, 0, 0, 0, 0, 0, 0, 0, 1, 0, 0, 0, 0, 0, 0, 0, 0, 0, 1, 1, 0, 0, 0, 0, 0, 0, 0, 0, 0, 0, 0, 0, 0, 0, 0, 0, 0, 0, 0, 0, 0, 0, 0, 0, 0, 0, 0, 0, 0, 0, 0, 0, 0, 0, 0, 0, 0, 0, 0, 0, 1, 0, 0, 0, 0, 0, 0, 0, 0, 1, 0, 0, 0, 0, 0, 0, 0, 0, 0, 0, 1, 0, 0, 0, 0, 0, 0, 0, 0, 0, 0, 0, 0, 0, 0, 0, 0, 0, 0, 0, 0, 0, 0, 1, 0, 0, 0, 1, 0, 0, 0, 1, 0, 0, 0, 0, 0, 0, 0, 0, 0, 0, 1, 0, 1, 0, 0, 0, 1, 0, 0, 0, 0, 0, 0, 0, 0, 0, 0, 0, 0, 0, 0, 0, 0, 0, 0, 0, 0, 1, 0, 0, 0, 0, 0, 0, 0, 0, 0, 0, 0, 0, 0, 0, 0, 0, 1, 1, 1, 0, 1, 1, 0, 1, 0, 0, 0, 0, 0, 0, 0, 0, 0, 0, 0, 0, 0, 0, 0, 0, 0, 0, 0, 0, 0, 0, 0, 0, 0, 0, 0, 0, 0, 0, 0, 0, 1, 0, 0, 0, 0, 0, 0, 0, 1, 0, 0, 0, 0, 0, 0, 0, 1, 0, 0, 0, 0, 1, 1, 0, 0, 0, 0, 0, 0, 1, 0, 0, 0, 0, 1, 0, 1, 0, 0, 0, 0, 0, 0, 0, 0, 0, 0, 0, 0, 0, 0, 0, 0, 0, 0, 0, 0, 0, 0, 0, 0, 0, 0, 0, 0, 0, 0, 0, 0, 0, 0, 0, 0, 0, 0, 0, 0, 0, 1, 0, 0, 0, 0, 1, 0, 0, 0, 0, 0, 0, 0, 0, 0, 0, 0, 0, 0, 0, 1, 0, 0, 0, 0, 0, 0, 0, 0, 0, 0, 0, 0, 0, 0, 0, 0, 0, 0, 0, 0, 0, 0, 0, 1, 0, 0, 0, 1, 0, 1, 0, 0, 0, 0, 0, 0, 0, 0, 0, 0, 0, 0, 0, 0, 0, 0, 0, 0, 1, 0, 0, 0, 0, 0, 0, 0, 0, 0, 0, 0, 0, 0, 0, 0, 0, 1, 0, 0, 1, 0, 0, 1, 0, 0, 0, 0, 0, 0, 0, 0, 1, 0, 0, 0, 0, 1, 0, 0, 0, 0, 0, 0, 0, 0, 0, 0, 0, 0, 1, 1, 0, 0, 0, 0, 0, 0, 0, 0, 0, 0, 0, 0, 0, 0, 0, 0, 0, 1, 0, 0, 0, 0, 1, 0, 0, 1, 0, 0, 1, 1, 0, 0, 0, 0, 0, 0, 1, 0, 0, 0, 0, 0, 0, 0, 0, 0, 0, 0, 0, 0, 0, 0, 0, 0, 0, 0, 0, 0, 0, 0, 0, 0, 0, 0, 0, 0, 1, 0, 0, 0, 1, 1, 0, 0, 0, 0, 0, 0, 0, 0, 0, 1, 0, 0, 0, 0, 0, 0, 0, 0, 1, 0, 0, 0, 0, 0, 0, 0, 0, 0, 0, 0, 0, 1, 0, 0, 0, 0, 0, 0, 0, 0, 0, 0, 0, 0, 0, 0, 1, 0, 0, 0, 0, 0, 0, 0, 0, 0, 0, 0, 0, 1, 1, 1, 0, 0, 0, 0, 0, 0, 0, 0, 0, 0, 0, 0, 0, 0, 0, 0, 0, 1, 0, 0, 0, 1, 0, 0, 0, 0, 0, 0, 0, 0, 0, 0, 0, 0, 0, 0, 0, 0, 0, 0, 0, 0, 0, 0, 0, 0, 0, 0, 0, 0, 0, 0, 0, 0, 0, 1, 0, 0, 0, 0, 0, 0, 0, 1, 0, 0, 0, 0, 0, 1, 0, 0, 0, 0, 0, 0, 0, 0, 1, 0, 1, 0, 0, 0, 0, 0, 0, 0, 0, 0, 0, 0, 0, 0, 0, 0, 0, 1, 0, 0, 0, 0, 1, 0, 0, 0, 1, 0, 0, 0, 0, 1, 0, 1, 0, 0, 0, 0, 0, 0, 0, 0, 0, 0, 0, 0, 0, 0, 0, 0, 0, 0, 0, 0, 0, 0, 1, 1, 0, 0, 0, 0, 0, 0, 0, 0, 0, 0, 0, 0, 0, 0, 0, 0, 0, 1, 0, 0, 0, 0, 0, 0, 0, 0, 0, 0, 0, 0, 0, 0, 0, 0, 0, 0, 0, 0, 0, 0, 0, 0, 0, 0, 0, 0, 0, 0, 0, 0, 0, 0, 1, 0, 0, 0, 1, 0, 0, 0, 0, 0, 0, 0, 0, 0, 0, 0, 0, 0, 0, 0, 0, 0, 0, 0, 0, 0, 0, 0, 1, 0, 0, 0, 1, 0, 0, 0, 0, 0, 0, 0, 0, 0, 0, 0, 0, 1, 0, 0, 0, 0, 0, 1, 0, 0, 1, 0, 0, 0, 0, 1, 0, 0, 0, 0, 0, 0, 0, 0, 0, 0, 0, 0, 0, 0, 0, 0, 0, 1, 0, 0, 0, 0, 0, 0, 0, 0, 0, 0, 0, 0, 0, 0, 0, 0, 0, 0, 0, 0, 0, 0, 0, 0, 0, 0, 0, 1, 0, 0, 0, 0, 0, 0, 0, 0, 0, 0, 0, 0, 0, 0, 0, 0, 1, 0, 0, 0, 0, 0, 0, 0, 0, 0, 0, 0, 0, 0, 0, 1, 0, 0, 0, 0, 0, 0, 0, 1, 0, 1, 0, 0, 0, 0, 0, 0, 0, 0, 0, 0, 0, 0, 0, 0, 0, 0, 0, 0, 0, 0, 0, 0, 0, 0, 0, 0, 0, 1, 1, 0, 0, 0, 0, 0, 0, 0, 0, 0, 0, 0, 1, 0, 0, 0, 0, 0, 0, 0, 0, 0, 0, 1, 0, 0, 0, 0, 0, 0, 0, 0, 0, 0, 0, 0, 0, 0, 0, 0, 0, 0, 0, 0, 0, 0, 0, 0, 0, 1, 0, 0, 0, 0, 0, 1, 0, 0, 0, 1, 0, 0, 0, 0, 1, 0, 0, 0, 0, 0, 0, 0, 0, 0, 0, 0, 0, 0, 0, 0, 0, 0, 0, 0, 0, 0, 0, 0, 1, 1, 0, 1, 0, 0, 0, 1, 1, 0, 0, 0, 0, 1, 0, 0, 0, 0, 0, 0, 0, 0, 0, 0, 0, 0, 0, 0, 0, 0, 0, 0, 0, 0, 0, 0, 0, 1, 0, 0, 0, 0, 0, 0, 0, 0, 0, 0, 0, 1, 0, 0, 0, 0, 0, 0, 0, 0, 0, 0, 0, 0, 0, 0, 0, 1, 0, 0, 0, 0, 0, 0, 0, 0, 0, 0, 0, 0, 1, 0, 1, 0, 0, 0, 0, 0, 1, 1, 0, 0, 0, 0, 0, 0, 0, 0, 0, 0, 1, 0, 0, 0, 0, 0, 0, 0, 0, 0, 1, 0, 0, 1, 0, 0, 0, 0, 0, 0, 0, 0, 1, 0, 0, 0, 0, 0, 0, 1, 1, 1, 0, 0, 0, 1, 0, 1, 0, 0, 0, 0, 0, 0, 0, 0, 0, 0, 0, 0, 0, 0, 0, 1, 1, 0, 0, 0, 0, 0, 0, 0, 0, 0, 0, 0, 0, 0, 0, 0, 0, 0, 0, 0, 1, 0, 0, 0, 0, 0, 0, 0, 0, 0, 0, 0, 0, 0, 0, 0, 0, 1, 0, 0, 0, 0, 0, 0, 0, 0, 0, 0, 0, 0, 0, 0, 0, 0, 0, 0, 0, 0, 0, 0, 0, 0, 0, 0, 1, 0, 0, 0, 0, 0, 0, 0, 0, 1, 0, 0, 0, 0, 0, 1, 0, 0, 0, 1, 0, 0, 1, 0, 0, 0, 0, 0, 0, 0, 0, 0, 0, 0, 0, 0, 0, 0, 0, 0, 1, 0, 0, 0, 0, 1, 0, 0, 0, 1, 0, 0, 0, 0, 0, 0, 0, 0, 0, 0, 1, 0, 0, 0, 0, 1, 0, 0, 0, 0, 0, 0, 0, 0, 0, 0, 0, 0, 0, 0, 0, 0, 0, 0, 0, 0, 0, 0, 0, 0, 0, 0, 0, 0, 0, 0, 0, 1, 0, 0, 0, 0, 0, 1, 0, 0, 0, 0, 1, 0, 0, 0, 0, 0, 0, 0, 0, 0, 0, 0, 0, 1, 0, 0, 0, 0, 0, 0, 0, 0, 0, 1, 0, 1, 0, 1, 0, 0, 0, 0, 0, 0, 0, 0, 0, 0, 0, 0, 0, 0, 0, 0, 0, 0, 0, 0, 0, 0, 1, 0, 0, 0, 0, 0, 0, 0, 0, 0, 0, 0, 0, 0, 0, 0, 0, 0, 0, 0, 0, 0, 0, 0, 0, 0, 0, 0, 0, 0, 0, 0, 0, 0, 0, 0, 0, 0, 0, 0, 0, 0, 0, 0, 0, 0, 0, 0, 0, 0, 0, 0, 0, 0, 0, 0, 0, 0, 0, 0, 0, 0, 0, 1, 0, 1, 0, 0, 1, 0, 0, 0, 0, 0, 0, 0, 0, 0, 0, 0, 0, 0, 0, 0, 0, 0, 0, 1, 0, 0, 0, 0, 0, 0, 0, 0, 0, 0, 0, 0, 0, 0, 0, 0, 0, 0, 0, 0, 0, 0, 0, 0, 0, 0, 0, 1, 0, 0, 0, 0, 0, 0, 1, 0, 0, 0, 0, 0, 0, 0, 0, 0, 0, 1, 0, 0, 0, 0, 0, 0, 0, 0, 0, 0, 1, 0, 0, 0, 0, 0, 0, 0, 0, 0, 0, 0, 0, 0, 0, 0, 0, 0, 0, 0, 0, 0, 0, 1, 0, 0, 1, 0, 0, 0, 0, 0, 0, 0, 0, 0, 0, 0, 0, 0, 1, 0, 0, 0, 0, 0, 0, 0, 0, 0, 0, 0, 0, 0, 0, 0, 0, 0, 0, 0, 1, 0, 0, 0, 0, 0, 0, 0, 0, 0, 1, 0, 0, 0, 0, 0, 0, 0, 0, 0, 1, 0, 1, 0, 0, 0, 0, 0, 0, 0, 0, 0, 0, 0, 0, 0, 0, 0, 0, 0, 0, 0, 0, 0, 0, 0, 0, 0, 0, 0, 0, 0, 0, 0, 0, 0, 0, 0, 0, 0, 0, 0, 0, 0, 0, 0, 1, 0, 0, 0, 0, 1, 0, 0, 0, 0, 0, 0, 0, 0, 0, 0, 0, 0, 0, 0, 0, 0, 0, 0, 0, 0, 0, 0, 0, 0, 0, 0, 0, 0, 0, 0, 0, 0, 0, 0, 0, 1, 0, 0, 0, 0, 0, 0, 0, 0, 0, 1, 0, 1, 0, 1, 0, 0, 0, 0, 0, 0, 0, 0, 1, 0, 0, 0, 0, 0, 1, 0, 0, 0, 0, 0, 0, 0, 0, 1, 0, 0, 0, 0, 0, 0, 0, 0, 0, 0, 0, 0, 0, 0, 0, 0, 0, 1, 0, 0, 0, 0, 0, 0, 0, 0, 0, 0, 0, 0, 0, 0, 0, 0, 0, 0, 0, 0, 1, 0, 0, 0, 1, 0, 0, 0, 0, 0, 0, 0, 0, 0, 0, 0, 0, 0, 0, 0, 0, 0, 0, 0, 0, 0, 0, 0, 0, 0, 0, 0, 0, 0, 0, 1, 0, 0, 0, 0, 0, 0, 0, 0, 0, 0, 1, 0, 0, 0, 0, 0, 0, 0, 0, 0, 0, 0, 0, 0, 0, 0, 0, 1, 0, 0, 0, 0, 0, 0, 0, 0, 0, 0, 1, 1, 0, 1, 0, 1, 0, 0, 0, 0, 0, 1, 0, 0, 1, 1, 0, 0, 0, 0, 0, 0, 0, 0, 0, 0, 0, 0, 0, 0, 0, 0, 0, 0, 0, 0, 0, 0, 0, 0, 0, 0, 0, 0, 0, 0, 0, 0, 0, 0, 0, 0, 0, 0, 0, 0, 1, 0, 0, 0, 0, 0, 0, 0, 0, 1, 0, 0, 0, 0, 1, 0, 1, 0, 0, 0, 0, 0, 1, 0, 0, 0, 0, 0, 1, 0, 0, 0, 0, 0, 0, 0, 0, 0, 1, 0, 1, 0, 0, 0, 0, 1, 0, 1, 0, 1, 0, 0, 0, 1, 0, 0, 1, 0, 0, 1, 0, 0, 0, 0, 0, 0, 0, 0, 1, 0, 0, 1, 0, 0, 0, 0, 0, 0, 0, 0, 0, 0, 0, 0, 0, 0, 0, 0, 0, 0, 0, 0, 0, 0, 0, 0, 0, 1, 0, 1, 0, 0, 0, 0, 0, 0, 0, 0, 0, 0, 0, 0, 0, 0, 0, 0, 0, 0, 0, 0, 0, 0, 0, 0, 0, 0, 0, 0, 0, 0, 1, 0, 0, 0, 0, 0, 0, 0, 0, 0, 0, 0, 0, 0, 0, 0, 0, 0, 1, 0, 0, 0, 0, 0, 0, 0, 0, 1, 0, 1, 0, 0, 0, 0, 0, 0, 0, 0, 0, 0, 0, 0, 1, 1, 0, 0, 0, 0, 0, 0, 1, 0, 0, 0, 1, 0, 0, 0, 0, 0, 0, 0, 1, 0, 0, 0, 0, 1, 0, 1, 1, 0, 1, 0, 0, 0, 0, 0, 0, 0, 0, 0, 1, 0, 0, 0, 0, 0, 0, 0, 0, 0, 0, 0, 0, 0, 0, 0, 0, 0, 0, 0, 0, 0, 0, 0, 0, 0, 0, 0, 0, 0, 0, 0, 1, 0, 1, 0, 0, 0, 0, 0, 0, 1, 1, 0, 0, 0, 0, 0, 0, 0, 0, 0, 0, 1, 1, 0, 0, 0, 0, 1, 0, 0, 1, 0, 0, 0, 0, 0, 0, 0, 0, 0, 0, 0, 1, 0, 0, 0, 0, 0, 0, 1, 1, 0, 0, 0, 0, 1, 0, 0, 0, 0, 0, 0, 0, 0, 0, 0, 0, 0, 0, 1, 0, 0, 0, 0, 0, 0, 0, 0, 0, 0, 0, 0, 0, 0, 0, 1, 0, 0, 0, 1, 0, 0, 0, 0, 0, 0, 1, 0, 0, 0, 0, 1, 0, 0, 0, 1, 0, 0, 0, 0, 0, 0, 0, 0, 0, 0, 1, 0, 0, 0, 0, 0, 0, 0, 1, 0, 1, 0, 0, 0, 0, 0, 0, 0, 0, 1, 0, 0, 0, 0, 0, 0, 0, 0, 0, 0, 0, 0, 0, 0, 0, 0, 0, 0, 0, 1, 0, 0, 1, 0, 0, 1, 0, 0, 0, 0, 0, 0, 0, 1, 1, 0, 0, 0, 0, 0, 0, 0, 0, 0, 0, 0, 0, 1, 0, 0, 0, 0, 0, 0, 0, 0, 0, 0, 0, 0, 0, 0, 0, 0, 0, 0, 0, 0, 0, 0, 0, 0, 0, 0, 0, 0, 0, 0, 1, 0, 0, 0, 0, 0, 0, 0, 0, 1, 0, 0, 0, 0, 0, 1, 0, 0, 1, 0, 0, 0, 0, 0, 0, 0, 0, 0, 0, 1, 0, 0, 0, 0, 0, 0, 0, 0, 0, 0, 1, 0, 0, 0, 0, 0, 1, 0, 0, 0, 0, 1, 0, 0, 0, 0, 0, 1, 0, 0, 0, 0, 0, 0, 0, 0, 0, 0, 0, 0, 0, 0, 0, 0, 0, 0, 0, 0, 0, 0, 0, 0, 0, 0, 0, 0, 0, 0, 0, 0, 0, 0, 1, 0, 0, 0, 0, 0, 1, 0, 0, 0, 0, 0, 0, 0, 0, 0, 0, 0, 0, 0, 0, 0, 0, 0, 0, 0, 0, 0, 0, 0, 0, 0, 0, 0, 0, 0, 0, 0, 0, 0, 0, 0, 1, 0, 0, 0, 0, 1, 0, 0, 0, 0, 1, 0, 0, 0, 1, 0, 1, 0, 0, 1, 0, 0, 0, 0, 1, 0, 0, 0, 1, 0, 0, 0, 0, 0, 0, 0, 0, 0, 0, 0, 0, 0, 0, 1, 0, 0, 0, 0, 1, 0, 0, 0, 0, 0, 0, 0, 0, 0, 0, 0, 1, 0, 0, 0, 0, 1, 0, 0, 0, 0, 0, 0, 0, 0, 0, 0, 0, 0, 1, 0, 1, 0, 0, 0, 0, 0, 0, 0, 0, 0, 0, 0, 0, 0, 0, 0, 0, 0, 0, 0, 1, 0, 1, 0, 0, 0, 0, 0, 0, 1, 0, 0, 0, 0, 0, 1, 1, 1, 0, 0, 1, 0, 0, 0, 0, 0, 0, 0, 0, 0, 0, 0, 0, 0, 0, 0, 0, 0, 0, 0, 0, 1, 0, 0, 0, 0, 0, 0, 0, 0, 0, 0, 0, 1, 0, 0, 0, 0, 0, 0, 0, 0, 0, 0, 0, 0, 0, 0, 0, 0, 0, 0, 0, 1, 0, 0, 0, 1, 0, 0, 0, 0, 0, 0, 0, 0, 0, 0, 0, 0, 0, 0, 0, 1, 0, 0, 0, 0, 0, 0, 0, 0, 0, 1, 0, 0, 0, 0, 0, 0, 0, 0, 0, 1, 0, 0, 0, 0, 1, 0, 0, 0, 0, 0, 0, 0, 0, 0, 0, 0, 0, 0, 0, 0, 1, 0, 0, 0, 0, 0, 1, 0, 0, 0, 0, 0, 1, 0, 0, 0, 0, 0, 0, 0, 0, 1, 0, 0, 0, 0, 0, 0, 0, 0, 0, 0, 1, 0, 0, 0, 0, 0, 1, 0, 0, 0, 0, 0, 0, 0, 0, 0, 0, 0, 0, 0, 0, 1, 0, 0, 0, 0, 0, 0, 0, 1, 0, 0, 0, 0, 1, 0, 0, 0, 0, 0, 0, 0, 0, 0, 0, 1, 0, 0, 1, 0, 0, 1, 0, 0, 0, 0, 0, 0, 0, 0, 0, 0, 0, 0, 0, 0, 0, 0, 0, 0, 0, 0, 0, 0, 0, 0, 0, 1, 0, 1, 0, 0, 0, 0, 1, 0, 0, 0, 0, 0, 0, 0, 0, 1, 0, 0, 0, 1, 0, 1, 0, 0, 0, 0, 0, 0, 0, 0, 0, 0, 0, 0, 1, 0, 0, 0, 1, 0, 0, 0, 0, 0, 1, 0, 0, 0, 0, 0, 0, 0, 0, 0, 0, 0, 0, 0, 0, 0, 0, 0, 0, 0, 0, 1, 0, 0, 0, 0, 0, 0, 0, 0, 0, 0, 0, 0, 0, 0, 0, 0, 0, 1, 0, 0, 0, 0, 0, 0, 1, 1, 0, 0, 0, 0, 0, 1, 1, 0, 0, 0, 0, 0, 0, 0, 0, 0, 0, 0, 0, 0, 1, 0, 0, 0, 0, 1, 0, 0, 0, 0, 0, 0, 0, 1, 0, 0, 0, 0, 0, 0, 0, 0, 0, 0, 0, 0, 0, 0, 0, 0, 0, 1, 0, 0, 0, 0, 0, 0, 0, 0, 0, 0, 0, 0, 0, 0, 0, 0, 0, 0, 0, 0, 0, 1, 0, 0, 0, 0, 0, 1, 0, 1, 0, 1, 0, 0, 0, 0, 1, 0, 0, 0, 0, 0, 0, 0, 0, 0, 0, 0, 0, 0, 0, 0, 0, 1, 0, 0, 0, 0, 0, 0, 0, 0, 0, 0, 0, 0, 0, 0, 0, 0, 0, 1, 0, 0, 0, 0, 0, 0, 0, 0, 0, 0, 0, 0, 0, 1, 0, 0, 0, 0, 0, 0, 0, 0, 0, 0, 0, 0, 0, 0, 0, 0, 0, 0, 0, 0, 0, 1, 0, 0, 0, 0, 0, 1, 0, 0, 0, 0, 1, 0, 0, 0, 0, 0, 0, 0, 0, 0, 0, 0, 1, 0, 0, 1, 0, 0, 0, 1, 0, 0, 0, 0, 0, 0, 0, 0, 0, 0, 1, 0, 0, 0, 0, 0, 0, 0, 0, 0, 0, 0, 0, 0, 0, 0, 0, 0, 0, 0, 0, 0, 1, 0, 0, 1, 0, 0, 0, 0, 0, 0, 0, 0, 0, 0, 0, 0, 0, 0, 1, 0, 1, 0, 0, 1, 0, 0, 0, 0, 0, 0, 0, 0, 0, 0, 0, 0, 0, 0, 0, 0, 0, 0, 1, 0, 0, 1, 0, 0, 1, 0, 0, 0, 0, 0, 0, 0, 0, 0, 0, 0, 0, 0, 0, 0, 0, 1, 1, 0, 0, 0, 0, 0, 0, 0, 1, 1, 1, 0, 0, 0, 0, 1, 0, 0, 0, 0, 0, 0, 0, 1, 0, 0, 0, 1, 0, 0, 0, 0, 0, 0, 0, 0, 0, 0, 0, 0, 0, 0, 0, 0, 0, 0, 0, 1, 1, 0, 0, 0, 0, 0, 0, 0, 0, 0, 0, 1, 0, 0, 0, 0, 0, 0, 0, 0, 0, 0, 0, 0, 0, 0, 0, 1, 0, 0, 0, 0, 0, 0, 0, 0, 0, 0, 0, 0, 0, 0, 1, 0, 0, 0, 0, 0, 0, 1, 0, 0, 0, 0, 0, 0, 0, 1, 0, 0, 0, 0, 0, 0, 1, 0, 0, 0, 0, 0, 0, 0, 0, 0, 0, 0, 0, 0, 0, 0, 0, 0, 0, 0, 0, 0, 0, 0, 0, 0, 0, 0, 0, 0, 0, 0, 0, 0, 1, 0, 0, 0, 0, 0, 0, 1, 0, 0, 0, 0, 0, 0, 0, 0, 1, 0, 0, 0, 0, 0, 0, 0, 0, 0, 0, 0, 0, 0, 0, 1, 0, 0, 0, 0, 0, 0, 0, 1, 0, 1, 0, 0, 1, 1, 0, 0, 0, 0, 0, 0, 0, 1, 1, 0, 0, 0, 0, 1, 1, 0, 0, 0, 1, 1, 1, 0, 0, 0, 0, 1, 0, 0, 0, 0, 0, 0, 0, 0, 0, 0, 0, 0, 0, 0, 0, 0, 0, 0, 0, 0, 0, 1, 0, 0, 0, 0, 0, 0, 0, 1, 0, 0, 1, 0, 0, 1, 0, 0, 0, 0, 0, 0, 0, 0, 0, 0, 0, 0, 0, 0, 0, 0, 0, 0, 0, 0, 0, 0, 0, 0, 1, 0, 0, 0, 0, 0, 0, 0, 0, 0, 0, 0, 0, 0, 0, 0, 0, 0, 0, 0, 0, 0, 0, 0, 0, 0, 0, 0, 0, 0, 0, 0, 0, 1, 0, 1, 0, 0, 1, 0, 0, 0, 0, 0, 0, 0, 0, 0, 0, 0, 0, 0, 0, 0, 0, 1, 0, 0, 0, 0, 0, 0, 0, 1, 0, 0, 0, 0, 0, 0, 1, 0, 1, 0, 0, 0, 0, 0, 0, 0, 0, 1, 0, 0, 0, 0, 0, 0, 0, 0, 0, 0, 0, 1, 0, 0, 0, 0, 0, 0, 0, 0, 0, 0, 0, 0, 0, 0, 0, 0, 0, 0, 0, 0, 1, 0, 0, 1, 1, 0, 0, 0, 0, 0, 0, 0, 0, 0, 0, 0, 0, 1, 0, 0, 0, 0, 0, 1, 0, 0, 0, 0, 0, 0, 1, 0, 1, 0, 0, 0, 0, 0, 0, 0, 0, 0, 0, 0, 0, 0, 0, 0, 0, 1, 0, 0, 0, 1, 0, 0, 0, 0, 0, 1, 0, 0, 0, 0, 0, 0, 0, 0, 0, 0, 0, 0, 0, 1, 1, 0, 1, 0, 0, 0, 1, 0, 0, 0, 0, 0, 0, 0, 0, 0, 0, 0, 0, 0, 1, 0, 0, 0, 0, 0, 0, 1, 0, 0, 0, 0, 1, 0, 0, 0, 1, 0, 0, 0, 0, 0, 1, 0, 0, 0, 0, 0, 0, 0, 1, 0, 0, 0, 0, 0, 0, 0, 0, 0, 1, 0, 1, 0, 1, 0, 0, 0, 0, 0, 0, 0, 0, 0, 0, 0, 0, 0, 0, 0, 0, 0, 0, 1, 0, 0, 0, 1, 0, 0, 0, 0, 0, 0, 0, 0, 0, 0, 0, 0, 0, 0, 0, 0, 0, 0, 0, 0, 0, 1, 0, 0, 0, 0, 0, 0, 0, 0, 0, 0, 0, 1, 0, 0, 1, 0, 0, 0, 0, 0, 0, 0, 1, 0, 0, 1, 0, 0, 0, 0, 0, 0, 0, 0, 0, 0, 0, 0, 0, 0, 0, 0, 0, 0, 0, 0, 0, 1, 0, 0, 0, 0, 0, 0, 0, 0, 0, 0, 0, 0, 0, 1, 0, 0, 0, 0, 0, 0, 0, 0, 0, 0, 0, 0, 0, 0, 1, 0, 0, 0, 0, 0, 0, 0, 0, 0, 0, 0, 1, 0, 0, 0, 0, 0, 0, 0, 0, 0, 0, 0, 0, 0, 0, 0, 0, 0, 0, 0, 0, 0, 0, 1, 0, 0, 0, 0, 0, 0, 1, 0, 0, 0, 0, 0, 0, 0, 0, 0, 0, 0, 0, 0, 1, 0, 0, 0, 1, 0, 0, 0, 0, 1, 0, 0, 0, 0, 0, 0, 0, 0, 0, 0, 0, 0, 0, 0, 0, 0, 0, 0, 0, 0, 1, 0, 0, 0, 0, 0, 1, 0, 0, 0, 0, 0, 0, 0, 0, 0, 0, 0, 0, 0, 0, 0, 0, 0, 0, 0, 0, 0, 0, 0, 0, 0, 0, 0, 0, 0, 1, 0, 0, 0, 0, 0, 0, 0, 0, 1, 0, 0, 0, 0, 0, 0, 0, 0, 0, 1, 1, 0, 0, 0, 0, 0, 0, 0, 0, 0, 0, 0, 0, 0, 0, 0, 0, 0, 0]\n"
     ]
    }
   ],
   "source": [
    "#print(pred)\n",
    "\n",
    "for i in range(len(pred)):\n",
    "    if pred[i]>0.5:\n",
    "        pred[i] = 1\n",
    "    else:\n",
    "        pred[i] = 0\n",
    "\n",
    "print(pred)"
   ]
  },
  {
   "cell_type": "code",
   "execution_count": 24,
   "metadata": {},
   "outputs": [],
   "source": [
    "pid = df_test.pid\n",
    "\n",
    "df_dict = {'pid' : pid, 'label' : pred}\n",
    "\n",
    "df_sub = pd.DataFrame(df_dict)\n",
    "\n",
    "df_sub.to_csv('Submission.csv')"
   ]
  },
  {
   "cell_type": "code",
   "execution_count": null,
   "metadata": {},
   "outputs": [],
   "source": []
  }
 ],
 "metadata": {
  "kernelspec": {
   "display_name": "Python 3",
   "language": "python",
   "name": "python3"
  },
  "language_info": {
   "codemirror_mode": {
    "name": "ipython",
    "version": 3
   },
   "file_extension": ".py",
   "mimetype": "text/x-python",
   "name": "python",
   "nbconvert_exporter": "python",
   "pygments_lexer": "ipython3",
   "version": "3.11.1"
  },
  "vscode": {
   "interpreter": {
    "hash": "d19ab47d91649460e555234a7415abf1826d0917e97c0b2f8fa2c45bcc64d6e0"
   }
  }
 },
 "nbformat": 4,
 "nbformat_minor": 2
}
